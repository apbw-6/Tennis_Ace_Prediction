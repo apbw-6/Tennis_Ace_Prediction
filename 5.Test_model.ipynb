{
 "cells": [
  {
   "cell_type": "markdown",
   "metadata": {},
   "source": [
    "# To test the model"
   ]
  },
  {
   "cell_type": "markdown",
   "metadata": {},
   "source": [
    "Upload the test set and run the following notebook. See 4.Feature_Engineering for more details or app.py for more details."
   ]
  },
  {
   "cell_type": "code",
   "execution_count": 1,
   "metadata": {},
   "outputs": [],
   "source": [
    "# Import everything from my_libraries.py\n",
    "from my_libraries import *  # noqa: F403\n",
    "\n",
    "# Other utilities\n",
    "import tennis_utils\n",
    "import dataframe_utils"
   ]
  },
  {
   "cell_type": "code",
   "execution_count": null,
   "metadata": {},
   "outputs": [],
   "source": [
    "df = pd.read_csv('') # Upload and read test csv"
   ]
  },
  {
   "cell_type": "code",
   "execution_count": null,
   "metadata": {},
   "outputs": [],
   "source": [
    "# Clean dataframe\n",
    "df = dataframe_utils.clean_dataframe(df)\n",
    "# Impute missing values\n",
    "df = dataframe_utils.impute_data(df)"
   ]
  },
  {
   "cell_type": "code",
   "execution_count": null,
   "metadata": {},
   "outputs": [],
   "source": [
    "X_test = df.drop(columns='is_ace') # or df.drop... Ensure column 'is_ace' is not a part of the test set.\n",
    "y_test = df['is_ace']\n",
    "\n",
    "X_test = dataframe_utils.feature_engineer(X_test)\n",
    "\n",
    "saved_model = joblib.load(\"xgb_model.joblib\")\n",
    "\n",
    "y_pred = saved_model.predict(X_test)"
   ]
  }
 ],
 "metadata": {
  "kernelspec": {
   "display_name": ".venv",
   "language": "python",
   "name": "python3"
  },
  "language_info": {
   "codemirror_mode": {
    "name": "ipython",
    "version": 3
   },
   "file_extension": ".py",
   "mimetype": "text/x-python",
   "name": "python",
   "nbconvert_exporter": "python",
   "pygments_lexer": "ipython3",
   "version": "3.12.2"
  }
 },
 "nbformat": 4,
 "nbformat_minor": 2
}
