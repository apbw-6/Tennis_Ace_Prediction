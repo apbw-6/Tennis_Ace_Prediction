{
 "cells": [
  {
   "cell_type": "markdown",
   "metadata": {},
   "source": [
    "# Model training"
   ]
  },
  {
   "cell_type": "markdown",
   "metadata": {},
   "source": [
    "In this file, I want to build and train some models and select the best predictor of ace/no ace."
   ]
  },
  {
   "cell_type": "markdown",
   "metadata": {},
   "source": [
    "## Importing libraries"
   ]
  },
  {
   "cell_type": "code",
   "execution_count": 8,
   "metadata": {},
   "outputs": [],
   "source": [
    "# Import everything from my_libraries.py\n",
    "from my_libraries import *  # noqa: F403\n",
    "\n",
    "# Other utilities\n",
    "import tennis_utils\n",
    "import dataframe_utils"
   ]
  },
  {
   "cell_type": "code",
   "execution_count": 9,
   "metadata": {},
   "outputs": [],
   "source": [
    "# Read into dataframe\n",
    "df = pd.read_csv(\"datasets/task_set.csv\")\n",
    "\n",
    "# Clean dataframe\n",
    "df = dataframe_utils.clean_dataframe(df)"
   ]
  },
  {
   "cell_type": "code",
   "execution_count": 10,
   "metadata": {},
   "outputs": [],
   "source": [
    "# Split data while maintaining the proportion of 'is_ace'\n",
    "X = df.drop(\"is_ace\", axis=1)\n",
    "y = df[\"is_ace\"]\n",
    "\n",
    "# Perform stratified split using train_test_split\n",
    "X_train, X_test, y_train, y_test = train_test_split(\n",
    "    X, y, test_size=0.3, stratify=y, random_state=42\n",
    ")\n",
    "\n",
    "# Save the train dataset in a new csv file\n",
    "train_df = X_train\n",
    "test_df = X_test\n",
    "train_df[\"is_ace\"] = y_train\n",
    "train_df.to_csv(\"datasets/train_dataset.csv\")"
   ]
  },
  {
   "cell_type": "code",
   "execution_count": 11,
   "metadata": {},
   "outputs": [],
   "source": [
    "X_train.drop(columns=\"is_ace\", inplace=True)"
   ]
  },
  {
   "cell_type": "code",
   "execution_count": 14,
   "metadata": {},
   "outputs": [],
   "source": [
    "train_df = dataframe_utils.feature_engineer(train_df)\n",
    "test_df = dataframe_utils.feature_engineer(test_df)"
   ]
  },
  {
   "cell_type": "code",
   "execution_count": null,
   "metadata": {},
   "outputs": [],
   "source": [
    "train_df"
   ]
  }
 ],
 "metadata": {
  "kernelspec": {
   "display_name": "base",
   "language": "python",
   "name": "python3"
  },
  "language_info": {
   "codemirror_mode": {
    "name": "ipython",
    "version": 3
   },
   "file_extension": ".py",
   "mimetype": "text/x-python",
   "name": "python",
   "nbconvert_exporter": "python",
   "pygments_lexer": "ipython3",
   "version": "3.11.7"
  }
 },
 "nbformat": 4,
 "nbformat_minor": 2
}
