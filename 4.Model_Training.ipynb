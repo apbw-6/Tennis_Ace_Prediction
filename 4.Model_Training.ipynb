{
 "cells": [
  {
   "cell_type": "markdown",
   "metadata": {},
   "source": [
    "# Model training"
   ]
  },
  {
   "cell_type": "markdown",
   "metadata": {},
   "source": [
    "In this file, I want to build and train some models and select the best predictor of ace/no ace."
   ]
  },
  {
   "cell_type": "markdown",
   "metadata": {},
   "source": [
    "## Importing libraries"
   ]
  },
  {
   "cell_type": "code",
   "execution_count": 1,
   "metadata": {},
   "outputs": [
    {
     "name": "stderr",
     "output_type": "stream",
     "text": [
      "2025-02-27 13:51:53.419343: I tensorflow/core/platform/cpu_feature_guard.cc:210] This TensorFlow binary is optimized to use available CPU instructions in performance-critical operations.\n",
      "To enable the following instructions: AVX2 FMA, in other operations, rebuild TensorFlow with the appropriate compiler flags.\n"
     ]
    }
   ],
   "source": [
    "# Import everything from my_libraries.py\n",
    "from my_libraries import *  # noqa: F403\n",
    "\n",
    "# Other utilities\n",
    "import tennis_utils\n",
    "import dataframe_utils\n",
    "\n",
    "from sklearn.model_selection import GridSearchCV\n",
    "from sklearn.tree import DecisionTreeClassifier\n",
    "from sklearn.ensemble import RandomForestClassifier\n",
    "from sklearn.svm import SVC\n",
    "from xgboost import XGBClassifier\n",
    "from sklearn.ensemble import VotingClassifier\n",
    "from sklearn.ensemble import GradientBoostingClassifier\n",
    "import tensorflow as tf\n",
    "from tensorflow.keras.models import Sequential\n",
    "from tensorflow.keras.layers import Dense, Dropout"
   ]
  },
  {
   "cell_type": "code",
   "execution_count": 2,
   "metadata": {},
   "outputs": [],
   "source": [
    "# Read into dataframe\n",
    "df = pd.read_csv(\"datasets/task_set.csv\")\n",
    "\n",
    "# Clean dataframe\n",
    "df = dataframe_utils.clean_dataframe(df)"
   ]
  },
  {
   "cell_type": "code",
   "execution_count": 3,
   "metadata": {},
   "outputs": [],
   "source": [
    "# Split data while maintaining the proportion of 'is_ace'\n",
    "X = df.drop(\"is_ace\", axis=1)\n",
    "y = df[\"is_ace\"]\n",
    "\n",
    "# Perform stratified split using train_test_split\n",
    "X_train, X_test, y_train, y_test = train_test_split(\n",
    "    X, y, test_size=0.3, stratify=y, random_state=42\n",
    ")\n",
    "\n",
    "# Save the train dataset in a new csv file\n",
    "train_df = pd.concat([X_train, y_train], axis=1)\n",
    "test_df = pd.concat([X_test, y_test], axis=1)\n",
    "train_df.to_csv(\"datasets/train_dataset.csv\")"
   ]
  },
  {
   "cell_type": "code",
   "execution_count": 6,
   "metadata": {},
   "outputs": [],
   "source": [
    "# Impute missing values and feature engineer\n",
    "X_train, X_test = [dataframe_utils.impute_data(df) for df in (X_train, X_test)]\n",
    "X_train, X_test = [dataframe_utils.feature_engineer(df) for df in (X_train, X_test)]"
   ]
  },
  {
   "cell_type": "code",
   "execution_count": 7,
   "metadata": {},
   "outputs": [
    {
     "data": {
      "text/html": [
       "<div>\n",
       "<style scoped>\n",
       "    .dataframe tbody tr th:only-of-type {\n",
       "        vertical-align: middle;\n",
       "    }\n",
       "\n",
       "    .dataframe tbody tr th {\n",
       "        vertical-align: top;\n",
       "    }\n",
       "\n",
       "    .dataframe thead th {\n",
       "        text-align: right;\n",
       "    }\n",
       "</style>\n",
       "<table border=\"1\" class=\"dataframe\">\n",
       "  <thead>\n",
       "    <tr style=\"text-align: right;\">\n",
       "      <th></th>\n",
       "      <th>bin_mean_ball_hit_y</th>\n",
       "      <th>ball_bounce_y</th>\n",
       "      <th>receiver_y</th>\n",
       "      <th>ball_hit_x</th>\n",
       "      <th>ball_net_z</th>\n",
       "      <th>ball_bounce_x</th>\n",
       "      <th>ball_bounce_angle</th>\n",
       "      <th>hitter_x</th>\n",
       "      <th>receiver_x</th>\n",
       "      <th>dist_ball_bounce_x_returner_x</th>\n",
       "      <th>dist_ball_bounce_y_returner_y</th>\n",
       "      <th>bin_mean_speed</th>\n",
       "      <th>bin_mean_ball_hit_z</th>\n",
       "      <th>surface_clay</th>\n",
       "      <th>surface_hard</th>\n",
       "      <th>hitter_hand_left</th>\n",
       "      <th>receiver_hand_left</th>\n",
       "      <th>serve_number</th>\n",
       "      <th>close_to_side_line</th>\n",
       "      <th>close_to_center_line</th>\n",
       "      <th>close_to_service_line</th>\n",
       "    </tr>\n",
       "  </thead>\n",
       "  <tbody>\n",
       "    <tr>\n",
       "      <th>0</th>\n",
       "      <td>0.829585</td>\n",
       "      <td>-0.168997</td>\n",
       "      <td>-0.902120</td>\n",
       "      <td>0.178764</td>\n",
       "      <td>-1.483581</td>\n",
       "      <td>-0.687501</td>\n",
       "      <td>0.142768</td>\n",
       "      <td>1.134956</td>\n",
       "      <td>0.911763</td>\n",
       "      <td>1.183361</td>\n",
       "      <td>1.076071</td>\n",
       "      <td>0.112884</td>\n",
       "      <td>-0.353871</td>\n",
       "      <td>1.0</td>\n",
       "      <td>0.0</td>\n",
       "      <td>0.0</td>\n",
       "      <td>0.0</td>\n",
       "      <td>1.0</td>\n",
       "      <td>0.0</td>\n",
       "      <td>0.0</td>\n",
       "      <td>0.0</td>\n",
       "    </tr>\n",
       "    <tr>\n",
       "      <th>1</th>\n",
       "      <td>-0.535732</td>\n",
       "      <td>0.279581</td>\n",
       "      <td>0.113482</td>\n",
       "      <td>1.810995</td>\n",
       "      <td>0.242343</td>\n",
       "      <td>0.912734</td>\n",
       "      <td>-0.835339</td>\n",
       "      <td>0.929693</td>\n",
       "      <td>0.973754</td>\n",
       "      <td>0.459598</td>\n",
       "      <td>0.690109</td>\n",
       "      <td>1.346496</td>\n",
       "      <td>0.600041</td>\n",
       "      <td>0.0</td>\n",
       "      <td>1.0</td>\n",
       "      <td>0.0</td>\n",
       "      <td>0.0</td>\n",
       "      <td>1.0</td>\n",
       "      <td>0.0</td>\n",
       "      <td>0.0</td>\n",
       "      <td>0.0</td>\n",
       "    </tr>\n",
       "    <tr>\n",
       "      <th>2</th>\n",
       "      <td>0.267366</td>\n",
       "      <td>-0.219920</td>\n",
       "      <td>-0.678570</td>\n",
       "      <td>1.642724</td>\n",
       "      <td>0.198089</td>\n",
       "      <td>1.024628</td>\n",
       "      <td>-0.645843</td>\n",
       "      <td>0.450747</td>\n",
       "      <td>1.398830</td>\n",
       "      <td>0.800148</td>\n",
       "      <td>-0.404254</td>\n",
       "      <td>0.994036</td>\n",
       "      <td>-0.353871</td>\n",
       "      <td>1.0</td>\n",
       "      <td>0.0</td>\n",
       "      <td>0.0</td>\n",
       "      <td>0.0</td>\n",
       "      <td>1.0</td>\n",
       "      <td>0.0</td>\n",
       "      <td>0.0</td>\n",
       "      <td>0.0</td>\n",
       "    </tr>\n",
       "    <tr>\n",
       "      <th>3</th>\n",
       "      <td>-0.355822</td>\n",
       "      <td>0.842736</td>\n",
       "      <td>0.098187</td>\n",
       "      <td>0.100238</td>\n",
       "      <td>0.242343</td>\n",
       "      <td>0.345601</td>\n",
       "      <td>0.184168</td>\n",
       "      <td>0.318792</td>\n",
       "      <td>0.031017</td>\n",
       "      <td>-0.139920</td>\n",
       "      <td>-1.213970</td>\n",
       "      <td>0.465345</td>\n",
       "      <td>0.600041</td>\n",
       "      <td>0.0</td>\n",
       "      <td>1.0</td>\n",
       "      <td>0.0</td>\n",
       "      <td>1.0</td>\n",
       "      <td>1.0</td>\n",
       "      <td>0.0</td>\n",
       "      <td>0.0</td>\n",
       "      <td>0.0</td>\n",
       "    </tr>\n",
       "    <tr>\n",
       "      <th>4</th>\n",
       "      <td>-0.355822</td>\n",
       "      <td>0.014978</td>\n",
       "      <td>0.051347</td>\n",
       "      <td>0.952812</td>\n",
       "      <td>-0.819764</td>\n",
       "      <td>-1.361930</td>\n",
       "      <td>0.446028</td>\n",
       "      <td>-0.619551</td>\n",
       "      <td>1.287731</td>\n",
       "      <td>1.862216</td>\n",
       "      <td>1.176582</td>\n",
       "      <td>-0.415807</td>\n",
       "      <td>-0.353871</td>\n",
       "      <td>0.0</td>\n",
       "      <td>1.0</td>\n",
       "      <td>1.0</td>\n",
       "      <td>0.0</td>\n",
       "      <td>2.0</td>\n",
       "      <td>0.0</td>\n",
       "      <td>1.0</td>\n",
       "      <td>0.0</td>\n",
       "    </tr>\n",
       "    <tr>\n",
       "      <th>...</th>\n",
       "      <td>...</td>\n",
       "      <td>...</td>\n",
       "      <td>...</td>\n",
       "      <td>...</td>\n",
       "      <td>...</td>\n",
       "      <td>...</td>\n",
       "      <td>...</td>\n",
       "      <td>...</td>\n",
       "      <td>...</td>\n",
       "      <td>...</td>\n",
       "      <td>...</td>\n",
       "      <td>...</td>\n",
       "      <td>...</td>\n",
       "      <td>...</td>\n",
       "      <td>...</td>\n",
       "      <td>...</td>\n",
       "      <td>...</td>\n",
       "      <td>...</td>\n",
       "      <td>...</td>\n",
       "      <td>...</td>\n",
       "      <td>...</td>\n",
       "    </tr>\n",
       "    <tr>\n",
       "      <th>115033</th>\n",
       "      <td>0.644178</td>\n",
       "      <td>-0.110334</td>\n",
       "      <td>-0.905124</td>\n",
       "      <td>-0.045597</td>\n",
       "      <td>-0.722404</td>\n",
       "      <td>0.391584</td>\n",
       "      <td>-1.138599</td>\n",
       "      <td>-0.775942</td>\n",
       "      <td>-0.093768</td>\n",
       "      <td>-0.278386</td>\n",
       "      <td>1.282722</td>\n",
       "      <td>1.515677</td>\n",
       "      <td>0.600041</td>\n",
       "      <td>0.0</td>\n",
       "      <td>1.0</td>\n",
       "      <td>0.0</td>\n",
       "      <td>0.0</td>\n",
       "      <td>1.0</td>\n",
       "      <td>0.0</td>\n",
       "      <td>0.0</td>\n",
       "      <td>0.0</td>\n",
       "    </tr>\n",
       "    <tr>\n",
       "      <th>115034</th>\n",
       "      <td>0.644178</td>\n",
       "      <td>-0.796805</td>\n",
       "      <td>-0.915776</td>\n",
       "      <td>0.330208</td>\n",
       "      <td>0.260045</td>\n",
       "      <td>0.396183</td>\n",
       "      <td>0.039774</td>\n",
       "      <td>-1.235339</td>\n",
       "      <td>-0.273299</td>\n",
       "      <td>-0.447538</td>\n",
       "      <td>-0.865800</td>\n",
       "      <td>-0.063346</td>\n",
       "      <td>0.600041</td>\n",
       "      <td>0.0</td>\n",
       "      <td>1.0</td>\n",
       "      <td>0.0</td>\n",
       "      <td>0.0</td>\n",
       "      <td>1.0</td>\n",
       "      <td>0.0</td>\n",
       "      <td>0.0</td>\n",
       "      <td>0.0</td>\n",
       "    </tr>\n",
       "    <tr>\n",
       "      <th>115035</th>\n",
       "      <td>-0.535732</td>\n",
       "      <td>0.145282</td>\n",
       "      <td>0.167423</td>\n",
       "      <td>1.766123</td>\n",
       "      <td>-0.625044</td>\n",
       "      <td>-0.098909</td>\n",
       "      <td>-0.439182</td>\n",
       "      <td>1.682323</td>\n",
       "      <td>0.951212</td>\n",
       "      <td>0.932626</td>\n",
       "      <td>1.440323</td>\n",
       "      <td>-0.415807</td>\n",
       "      <td>-1.297526</td>\n",
       "      <td>1.0</td>\n",
       "      <td>0.0</td>\n",
       "      <td>0.0</td>\n",
       "      <td>0.0</td>\n",
       "      <td>2.0</td>\n",
       "      <td>0.0</td>\n",
       "      <td>0.0</td>\n",
       "      <td>0.0</td>\n",
       "    </tr>\n",
       "    <tr>\n",
       "      <th>115036</th>\n",
       "      <td>0.829585</td>\n",
       "      <td>-0.314778</td>\n",
       "      <td>-0.909085</td>\n",
       "      <td>0.408735</td>\n",
       "      <td>-1.288861</td>\n",
       "      <td>-0.371746</td>\n",
       "      <td>-0.526693</td>\n",
       "      <td>0.949242</td>\n",
       "      <td>-0.607402</td>\n",
       "      <td>-0.383170</td>\n",
       "      <td>0.647493</td>\n",
       "      <td>0.994036</td>\n",
       "      <td>0.600041</td>\n",
       "      <td>0.0</td>\n",
       "      <td>1.0</td>\n",
       "      <td>0.0</td>\n",
       "      <td>0.0</td>\n",
       "      <td>1.0</td>\n",
       "      <td>0.0</td>\n",
       "      <td>0.0</td>\n",
       "      <td>0.0</td>\n",
       "    </tr>\n",
       "    <tr>\n",
       "      <th>115037</th>\n",
       "      <td>-0.355822</td>\n",
       "      <td>0.926860</td>\n",
       "      <td>0.131235</td>\n",
       "      <td>-0.511148</td>\n",
       "      <td>-0.173649</td>\n",
       "      <td>0.089624</td>\n",
       "      <td>-0.337198</td>\n",
       "      <td>0.690220</td>\n",
       "      <td>0.904518</td>\n",
       "      <td>0.797154</td>\n",
       "      <td>-1.290359</td>\n",
       "      <td>0.289114</td>\n",
       "      <td>-0.353871</td>\n",
       "      <td>1.0</td>\n",
       "      <td>0.0</td>\n",
       "      <td>0.0</td>\n",
       "      <td>1.0</td>\n",
       "      <td>1.0</td>\n",
       "      <td>1.0</td>\n",
       "      <td>0.0</td>\n",
       "      <td>0.0</td>\n",
       "    </tr>\n",
       "  </tbody>\n",
       "</table>\n",
       "<p>115038 rows × 21 columns</p>\n",
       "</div>"
      ],
      "text/plain": [
       "        bin_mean_ball_hit_y  ball_bounce_y  receiver_y  ball_hit_x  \\\n",
       "0                  0.829585      -0.168997   -0.902120    0.178764   \n",
       "1                 -0.535732       0.279581    0.113482    1.810995   \n",
       "2                  0.267366      -0.219920   -0.678570    1.642724   \n",
       "3                 -0.355822       0.842736    0.098187    0.100238   \n",
       "4                 -0.355822       0.014978    0.051347    0.952812   \n",
       "...                     ...            ...         ...         ...   \n",
       "115033             0.644178      -0.110334   -0.905124   -0.045597   \n",
       "115034             0.644178      -0.796805   -0.915776    0.330208   \n",
       "115035            -0.535732       0.145282    0.167423    1.766123   \n",
       "115036             0.829585      -0.314778   -0.909085    0.408735   \n",
       "115037            -0.355822       0.926860    0.131235   -0.511148   \n",
       "\n",
       "        ball_net_z  ball_bounce_x  ball_bounce_angle  hitter_x  receiver_x  \\\n",
       "0        -1.483581      -0.687501           0.142768  1.134956    0.911763   \n",
       "1         0.242343       0.912734          -0.835339  0.929693    0.973754   \n",
       "2         0.198089       1.024628          -0.645843  0.450747    1.398830   \n",
       "3         0.242343       0.345601           0.184168  0.318792    0.031017   \n",
       "4        -0.819764      -1.361930           0.446028 -0.619551    1.287731   \n",
       "...            ...            ...                ...       ...         ...   \n",
       "115033   -0.722404       0.391584          -1.138599 -0.775942   -0.093768   \n",
       "115034    0.260045       0.396183           0.039774 -1.235339   -0.273299   \n",
       "115035   -0.625044      -0.098909          -0.439182  1.682323    0.951212   \n",
       "115036   -1.288861      -0.371746          -0.526693  0.949242   -0.607402   \n",
       "115037   -0.173649       0.089624          -0.337198  0.690220    0.904518   \n",
       "\n",
       "        dist_ball_bounce_x_returner_x  dist_ball_bounce_y_returner_y  \\\n",
       "0                            1.183361                       1.076071   \n",
       "1                            0.459598                       0.690109   \n",
       "2                            0.800148                      -0.404254   \n",
       "3                           -0.139920                      -1.213970   \n",
       "4                            1.862216                       1.176582   \n",
       "...                               ...                            ...   \n",
       "115033                      -0.278386                       1.282722   \n",
       "115034                      -0.447538                      -0.865800   \n",
       "115035                       0.932626                       1.440323   \n",
       "115036                      -0.383170                       0.647493   \n",
       "115037                       0.797154                      -1.290359   \n",
       "\n",
       "        bin_mean_speed  bin_mean_ball_hit_z  surface_clay  surface_hard  \\\n",
       "0             0.112884            -0.353871           1.0           0.0   \n",
       "1             1.346496             0.600041           0.0           1.0   \n",
       "2             0.994036            -0.353871           1.0           0.0   \n",
       "3             0.465345             0.600041           0.0           1.0   \n",
       "4            -0.415807            -0.353871           0.0           1.0   \n",
       "...                ...                  ...           ...           ...   \n",
       "115033        1.515677             0.600041           0.0           1.0   \n",
       "115034       -0.063346             0.600041           0.0           1.0   \n",
       "115035       -0.415807            -1.297526           1.0           0.0   \n",
       "115036        0.994036             0.600041           0.0           1.0   \n",
       "115037        0.289114            -0.353871           1.0           0.0   \n",
       "\n",
       "        hitter_hand_left  receiver_hand_left  serve_number  \\\n",
       "0                    0.0                 0.0           1.0   \n",
       "1                    0.0                 0.0           1.0   \n",
       "2                    0.0                 0.0           1.0   \n",
       "3                    0.0                 1.0           1.0   \n",
       "4                    1.0                 0.0           2.0   \n",
       "...                  ...                 ...           ...   \n",
       "115033               0.0                 0.0           1.0   \n",
       "115034               0.0                 0.0           1.0   \n",
       "115035               0.0                 0.0           2.0   \n",
       "115036               0.0                 0.0           1.0   \n",
       "115037               0.0                 1.0           1.0   \n",
       "\n",
       "        close_to_side_line  close_to_center_line  close_to_service_line  \n",
       "0                      0.0                   0.0                    0.0  \n",
       "1                      0.0                   0.0                    0.0  \n",
       "2                      0.0                   0.0                    0.0  \n",
       "3                      0.0                   0.0                    0.0  \n",
       "4                      0.0                   1.0                    0.0  \n",
       "...                    ...                   ...                    ...  \n",
       "115033                 0.0                   0.0                    0.0  \n",
       "115034                 0.0                   0.0                    0.0  \n",
       "115035                 0.0                   0.0                    0.0  \n",
       "115036                 0.0                   0.0                    0.0  \n",
       "115037                 1.0                   0.0                    0.0  \n",
       "\n",
       "[115038 rows x 21 columns]"
      ]
     },
     "execution_count": 7,
     "metadata": {},
     "output_type": "execute_result"
    }
   ],
   "source": [
    "X_train"
   ]
  },
  {
   "cell_type": "markdown",
   "metadata": {},
   "source": [
    "## Imbalanced dataset"
   ]
  },
  {
   "cell_type": "markdown",
   "metadata": {},
   "source": [
    "Almost 92% of serves are not aces. The data is highly imbalanced. For the machine learning model to learn effectively, the data has to be balanced. I am using the random oversampler for this. Note that there are not too many unique ways you can serve an ace. ie: high serve speed, aim at the lines, hit where your opponent doesn't expect you to but this will still be to the leftmost or rightmost of the ad/deuce court."
   ]
  },
  {
   "cell_type": "code",
   "execution_count": 8,
   "metadata": {},
   "outputs": [
    {
     "data": {
      "text/plain": [
       "is_ace\n",
       "0    105993\n",
       "1      9045\n",
       "Name: count, dtype: int64"
      ]
     },
     "execution_count": 8,
     "metadata": {},
     "output_type": "execute_result"
    }
   ],
   "source": [
    "y_train.value_counts()"
   ]
  },
  {
   "cell_type": "code",
   "execution_count": 9,
   "metadata": {},
   "outputs": [
    {
     "data": {
      "image/png": "[encoded data removed]",
      "text/plain": [
       "<Figure size 640x480 with 1 Axes>"
      ]
     },
     "metadata": {},
     "output_type": "display_data"
    }
   ],
   "source": [
    "sns.countplot(data=pd.DataFrame(y_train), x=\"is_ace\", hue=\"is_ace\")\n",
    "plt.xlabel(\"Target\", fontsize=15)\n",
    "plt.xticks(rotation=90)\n",
    "plt.ylabel(\"Count\", fontsize=15)\n",
    "plt.title(\"Before sampling\", fontsize=20)\n",
    "plt.show()"
   ]
  },
  {
   "cell_type": "code",
   "execution_count": null,
   "metadata": {},
   "outputs": [],
   "source": [
    "# # Random oversampling to make the majority and minority class even\n",
    "\n",
    "# rd_over_sample = RandomOverSampler()\n",
    "# X_train, y_train = rd_over_sample.fit_resample(X_train, y_train)"
   ]
  },
  {
   "cell_type": "code",
   "execution_count": 11,
   "metadata": {},
   "outputs": [],
   "source": [
    "# SMOTE sampling\n",
    "smote = SMOTE(random_state=42)\n",
    "X_train, y_train = smote.fit_resample(X_train, y_train)"
   ]
  },
  {
   "cell_type": "code",
   "execution_count": 12,
   "metadata": {},
   "outputs": [
    {
     "data": {
      "image/png": "[encoded data removed]",
      "text/plain": [
       "<Figure size 640x480 with 1 Axes>"
      ]
     },
     "metadata": {},
     "output_type": "display_data"
    }
   ],
   "source": [
    "sns.countplot(data=pd.DataFrame(y_train), x=\"is_ace\", hue=\"is_ace\")\n",
    "plt.xlabel(\"Target\", fontsize=15)\n",
    "plt.xticks(rotation=90)\n",
    "plt.ylabel(\"Count\", fontsize=15)\n",
    "plt.title(\"After sampling\", fontsize=20)\n",
    "plt.show()"
   ]
  },
  {
   "cell_type": "markdown",
   "metadata": {},
   "source": [
    "# Models"
   ]
  },
  {
   "cell_type": "markdown",
   "metadata": {},
   "source": []
  },
  {
   "cell_type": "code",
   "execution_count": 16,
   "metadata": {},
   "outputs": [],
   "source": [
    "def scoring():\n",
    "    \"\"\"A function to print scores and save them in lists.\"\"\"\n",
    "    print(\"\\n-----Train Data Accuracy----\")\n",
    "    a_s = round(accuracy_score(y_train.to_numpy(), y_pred_train), 4)\n",
    "    print(\"Accuracy score:\", a_s)\n",
    "    f_1 = round(f1_score(y_train.to_numpy(), y_pred_train), 4)\n",
    "    print(\"F1 score:\", f_1)\n",
    "    accuracy_train.append(a_s)\n",
    "    F1score_train.append(f_1)\n",
    "\n",
    "    print(\"-----Test Data Accuracy----\")\n",
    "    a_s = round(accuracy_score(y_test.to_numpy(), y_pred), 4)\n",
    "    print(\"Accuracy score:\", a_s)\n",
    "    f_1 = round(f1_score(y_test.to_numpy(), y_pred), 4)\n",
    "    print(\"F1 score:\", f_1)\n",
    "    accuracy_test.append(a_s)\n",
    "    F1score_test.append(f_1)"
   ]
  },
  {
   "cell_type": "code",
   "execution_count": 14,
   "metadata": {},
   "outputs": [],
   "source": [
    "# Saving model scores in list for final evaluation\n",
    "accuracy_test = []\n",
    "accuracy_train = []\n",
    "F1score_test = []\n",
    "F1score_train = []"
   ]
  },
  {
   "cell_type": "markdown",
   "metadata": {},
   "source": [
    "## Random Forest Classifer"
   ]
  },
  {
   "cell_type": "code",
   "execution_count": 15,
   "metadata": {},
   "outputs": [],
   "source": [
    "# Got the best split from the GridSearchCV below\n",
    "rfc = RandomForestClassifier(\n",
    "    random_state=42, max_depth=10, n_estimators=50, min_samples_split=6\n",
    ")\n",
    "\n",
    "# Training Model\n",
    "rfc.fit(X_train, y_train)\n",
    "# Save model\n",
    "joblib.dump(rfc, \"rfc_model.joblib\")\n",
    "# Load model\n",
    "saved_model = joblib.load(\"rfc_model.joblib\")\n",
    "# Predict\n",
    "y_pred = saved_model.predict(X_test)\n",
    "y_pred_train = saved_model.predict(X_train)"
   ]
  },
  {
   "cell_type": "code",
   "execution_count": 17,
   "metadata": {},
   "outputs": [
    {
     "name": "stdout",
     "output_type": "stream",
     "text": [
      "\n",
      "-----Train Data Accuracy----\n",
      "Accuracy score: 0.92\n",
      "F1 score: 0.9213\n",
      "-----Test Data Accuracy----\n",
      "Accuracy score: 0.8799\n",
      "F1 score: 0.5208\n"
     ]
    }
   ],
   "source": [
    "scoring()"
   ]
  },
  {
   "cell_type": "markdown",
   "metadata": {},
   "source": [
    "### Using gridsearch cv for hyper parameter tuning"
   ]
  },
  {
   "cell_type": "code",
   "execution_count": 18,
   "metadata": {},
   "outputs": [
    {
     "name": "stdout",
     "output_type": "stream",
     "text": [
      "Fitting 2 folds for each of 18 candidates, totalling 36 fits\n"
     ]
    }
   ],
   "source": [
    "param_grid = [\n",
    "    {\n",
    "        \"n_estimators\": [20, 50],\n",
    "        \"max_depth\": [5, 7, 10],\n",
    "        \"min_samples_split\": [2, 3, 6],\n",
    "    }\n",
    "]\n",
    "\n",
    "grid_search = GridSearchCV(\n",
    "    estimator=RandomForestClassifier(),\n",
    "    param_grid=param_grid,\n",
    "    cv=2,\n",
    "    return_train_score=True,\n",
    "    verbose=True,\n",
    ")\n",
    "grid_search.fit(X_train, y_train)\n",
    "\n",
    "# Save the model so you don't have to run Gridsearchcv again.\n",
    "# Access the best model\n",
    "best_model = grid_search.best_estimator_\n",
    "best_parameters = grid_search.best_params_\n",
    "best_score = grid_search.best_score_\n",
    "\n",
    "# Save the best model to a file using joblib\n",
    "joblib.dump(best_model, \"best_random_forest_model.joblib\")\n",
    "\n",
    "# Grid_search.cv_results_ is a dictonary of each iteration of grid search, saving parameters and test and train scores.\n",
    "# Converting that to a df and saving as a csv so it can be accessed whenever.\n",
    "\n",
    "cv_results_df = pd.DataFrame(grid_search.cv_results_)\n",
    "cv_results_df.to_csv(\"cv_results.csv\")"
   ]
  },
  {
   "cell_type": "markdown",
   "metadata": {},
   "source": [
    "Obtaining the top ten most important features."
   ]
  },
  {
   "cell_type": "code",
   "execution_count": 19,
   "metadata": {},
   "outputs": [
    {
     "name": "stdout",
     "output_type": "stream",
     "text": [
      "Top 10 Features for Serve Prediction:\n",
      "                          Feature  Importance\n",
      "19           close_to_center_line    0.150180\n",
      "11                 bin_mean_speed    0.144625\n",
      "10  dist_ball_bounce_y_returner_y    0.142201\n",
      "1                   ball_bounce_y    0.133017\n",
      "18             close_to_side_line    0.125864\n",
      "6               ball_bounce_angle    0.082023\n",
      "17                   serve_number    0.066470\n",
      "0             bin_mean_ball_hit_y    0.034804\n",
      "4                      ball_net_z    0.023597\n",
      "8                      receiver_x    0.017853\n"
     ]
    }
   ],
   "source": [
    "# Extract feature importances\n",
    "importances = saved_model.feature_importances_\n",
    "\n",
    "# Create a DataFrame for feature importance\n",
    "feature_importance_df = pd.DataFrame(\n",
    "    {\"Feature\": X_train.columns, \"Importance\": importances}\n",
    ")\n",
    "\n",
    "# Sort features by importance\n",
    "top_features = feature_importance_df.sort_values(by=\"Importance\", ascending=False).head(\n",
    "    10\n",
    ")\n",
    "\n",
    "# Display the top 10 features\n",
    "print(\"Top 10 Features for Serve Prediction:\")\n",
    "print(top_features)"
   ]
  },
  {
   "cell_type": "markdown",
   "metadata": {},
   "source": [
    "Three of new features engineered have made it into the top 10, two making it to top 3."
   ]
  },
  {
   "cell_type": "code",
   "execution_count": 20,
   "metadata": {},
   "outputs": [
    {
     "data": {
      "image/png": "[encoded data removed]",
      "text/plain": [
       "<Figure size 1000x600 with 1 Axes>"
      ]
     },
     "metadata": {},
     "output_type": "display_data"
    }
   ],
   "source": [
    "# Visualize feature importance\n",
    "\n",
    "plt.figure(figsize=(10, 6))\n",
    "plt.barh(top_features[\"Feature\"], top_features[\"Importance\"], color=\"skyblue\")\n",
    "plt.xlabel(\"Importance\")\n",
    "plt.ylabel(\"Feature\")\n",
    "plt.title(\"Top 10 Features for Serve Prediction\")\n",
    "plt.gca().invert_yaxis()\n",
    "plt.show()"
   ]
  },
  {
   "cell_type": "code",
   "execution_count": 21,
   "metadata": {},
   "outputs": [
    {
     "name": "stdout",
     "output_type": "stream",
     "text": [
      "Worst 10 Features for Serve Prediction:\n",
      "                          Feature  Importance\n",
      "16             receiver_hand_left    0.001288\n",
      "20          close_to_service_line    0.001589\n",
      "7                        hitter_x    0.002305\n",
      "15               hitter_hand_left    0.002469\n",
      "14                   surface_hard    0.008138\n",
      "12            bin_mean_ball_hit_z    0.008566\n",
      "3                      ball_hit_x    0.009161\n",
      "13                   surface_clay    0.009437\n",
      "2                      receiver_y    0.010573\n",
      "9   dist_ball_bounce_x_returner_x    0.010862\n"
     ]
    }
   ],
   "source": [
    "# Sort features by importance\n",
    "worst_features = feature_importance_df.sort_values(\n",
    "    by=\"Importance\", ascending=True\n",
    ").head(10)\n",
    "\n",
    "# Display the top 10 features\n",
    "print(\"Worst 10 Features for Serve Prediction:\")\n",
    "print(worst_features)"
   ]
  },
  {
   "cell_type": "markdown",
   "metadata": {},
   "source": [
    "Dropping more columns"
   ]
  },
  {
   "cell_type": "code",
   "execution_count": null,
   "metadata": {},
   "outputs": [],
   "source": [
    "# new_columns_to_drop = ['receiver_hand_left', 'surface_hard', 'close_to_service_line','hitter_hand_left','serve_side_deuce','hitter_x']\n",
    "# X_train.drop(columns=new_columns_to_drop, inplace=True)\n",
    "# X_test.drop(columns=new_columns_to_drop, inplace=True)"
   ]
  },
  {
   "cell_type": "markdown",
   "metadata": {},
   "source": [
    "### XG Boost"
   ]
  },
  {
   "cell_type": "code",
   "execution_count": 22,
   "metadata": {},
   "outputs": [
    {
     "name": "stdout",
     "output_type": "stream",
     "text": [
      "\n",
      "-----Train Data Accuracy----\n",
      "Accuracy score: 0.9215\n",
      "F1 score: 0.9228\n",
      "-----Test Data Accuracy----\n",
      "Accuracy score: 0.8744\n",
      "F1 score: 0.5085\n"
     ]
    }
   ],
   "source": [
    "xgb = XGBClassifier(\n",
    "    eval_metric=\"logloss\",\n",
    "    random_state=42,\n",
    "    reg_alpha=0.1,\n",
    "    reg_lambda=1,\n",
    "    colsample_bytree=0.85,\n",
    "    subsample=0.85,\n",
    "    learning_rate=0.05,\n",
    "    n_estimators=100,\n",
    "    max_depth=4,\n",
    ")\n",
    "\n",
    "# Training Model\n",
    "xgb.fit(X_train, y_train)\n",
    "\n",
    "# Mode summary\n",
    "y_pred = xgb.predict(X_test)\n",
    "y_pred_train = xgb.predict(X_train)\n",
    "\n",
    "scoring()"
   ]
  },
  {
   "cell_type": "code",
   "execution_count": 23,
   "metadata": {},
   "outputs": [
    {
     "data": {
      "text/plain": [
       "['xgb_model.joblib']"
      ]
     },
     "execution_count": 23,
     "metadata": {},
     "output_type": "execute_result"
    }
   ],
   "source": [
    "joblib.dump(xgb, \"xgb_model.joblib\")"
   ]
  },
  {
   "cell_type": "code",
   "execution_count": 24,
   "metadata": {},
   "outputs": [
    {
     "data": {
      "image/png": "[encoded data removed]",
      "text/plain": [
       "<Figure size 500x400 with 2 Axes>"
      ]
     },
     "metadata": {},
     "output_type": "display_data"
    }
   ],
   "source": [
    "# Confusion Matrix Visualization\n",
    "plt.figure(figsize=(5, 4))\n",
    "sns.heatmap(\n",
    "    confusion_matrix(y_test, y_pred),\n",
    "    annot=True,\n",
    "    fmt=\"d\",\n",
    "    cmap=\"Blues\",\n",
    "    xticklabels=[\"Not Ace\", \"Ace\"],\n",
    "    yticklabels=[\"Not Ace\", \"Ace\"],\n",
    ")\n",
    "plt.xlabel(\"Predicted\")\n",
    "plt.ylabel(\"Actual\")\n",
    "plt.title(\"Confusion Matrix\")\n",
    "plt.show()"
   ]
  },
  {
   "cell_type": "markdown",
   "metadata": {},
   "source": [
    "More focus must be given to identifying why serves that are not aces are getting identified as aces."
   ]
  }
 ],
 "metadata": {
  "kernelspec": {
   "display_name": ".venv",
   "language": "python",
   "name": "python3"
  },
  "language_info": {
   "codemirror_mode": {
    "name": "ipython",
    "version": 3
   },
   "file_extension": ".py",
   "mimetype": "text/x-python",
   "name": "python",
   "nbconvert_exporter": "python",
   "pygments_lexer": "ipython3",
   "version": "3.12.2"
  }
 },
 "nbformat": 4,
 "nbformat_minor": 2
}
