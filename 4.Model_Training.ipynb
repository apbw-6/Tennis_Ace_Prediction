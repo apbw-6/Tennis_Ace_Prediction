{
 "cells": [
  {
   "cell_type": "markdown",
   "metadata": {},
   "source": [
    "# Model training"
   ]
  },
  {
   "cell_type": "markdown",
   "metadata": {},
   "source": [
    "In this file, I want to build and train some models and select the best predictor of ace/no ace."
   ]
  },
  {
   "cell_type": "markdown",
   "metadata": {},
   "source": [
    "## Importing libraries"
   ]
  },
  {
   "cell_type": "code",
   "execution_count": 1,
   "metadata": {},
   "outputs": [],
   "source": [
    "# Import everything from my_libraries.py\n",
    "from my_libraries import *  # noqa: F403\n",
    "\n",
    "# Other utilities\n",
    "import tennis_utils\n",
    "import dataframe_utils"
   ]
  },
  {
   "cell_type": "code",
   "execution_count": 2,
   "metadata": {},
   "outputs": [],
   "source": [
    "# Read into dataframe\n",
    "df = pd.read_csv(\"datasets/task_set.csv\")\n",
    "\n",
    "# Clean dataframe\n",
    "df = dataframe_utils.clean_dataframe(df)"
   ]
  },
  {
   "cell_type": "code",
   "execution_count": 3,
   "metadata": {},
   "outputs": [],
   "source": [
    "# Split data while maintaining the proportion of 'is_ace'\n",
    "X = df.drop(\"is_ace\", axis=1)\n",
    "y = df[\"is_ace\"]\n",
    "\n",
    "# Perform stratified split using train_test_split\n",
    "X_train, X_test, y_train, y_test = train_test_split(\n",
    "    X, y, test_size=0.3, stratify=y, random_state=42\n",
    ")\n",
    "\n",
    "# Save the train dataset in a new csv file\n",
    "train_df = X_train\n",
    "test_df = X_test\n",
    "train_df[\"is_ace\"] = y_train\n",
    "train_df.to_csv(\"datasets/train_dataset.csv\")"
   ]
  },
  {
   "cell_type": "code",
   "execution_count": 4,
   "metadata": {},
   "outputs": [
    {
     "data": {
      "text/html": [
       "<div>\n",
       "<style scoped>\n",
       "    .dataframe tbody tr th:only-of-type {\n",
       "        vertical-align: middle;\n",
       "    }\n",
       "\n",
       "    .dataframe tbody tr th {\n",
       "        vertical-align: top;\n",
       "    }\n",
       "\n",
       "    .dataframe thead th {\n",
       "        text-align: right;\n",
       "    }\n",
       "</style>\n",
       "<table border=\"1\" class=\"dataframe\">\n",
       "  <thead>\n",
       "    <tr style=\"text-align: right;\">\n",
       "      <th></th>\n",
       "      <th>surface</th>\n",
       "      <th>serve_side</th>\n",
       "      <th>serve_number</th>\n",
       "      <th>ball_hit_y</th>\n",
       "      <th>ball_hit_x</th>\n",
       "      <th>ball_hit_z</th>\n",
       "      <th>ball_hit_v</th>\n",
       "      <th>ball_net_v</th>\n",
       "      <th>ball_net_z</th>\n",
       "      <th>ball_net_y</th>\n",
       "      <th>ball_bounce_x</th>\n",
       "      <th>ball_bounce_y</th>\n",
       "      <th>ball_bounce_v</th>\n",
       "      <th>ball_bounce_angle</th>\n",
       "      <th>hitter_x</th>\n",
       "      <th>hitter_y</th>\n",
       "      <th>receiver_x</th>\n",
       "      <th>receiver_y</th>\n",
       "      <th>hitter_hand</th>\n",
       "      <th>receiver_hand</th>\n",
       "    </tr>\n",
       "  </thead>\n",
       "  <tbody>\n",
       "    <tr>\n",
       "      <th>0</th>\n",
       "      <td>hard</td>\n",
       "      <td>deuce</td>\n",
       "      <td>2</td>\n",
       "      <td>-1.459</td>\n",
       "      <td>-11.445</td>\n",
       "      <td>2.830</td>\n",
       "      <td>91.5</td>\n",
       "      <td>67.9</td>\n",
       "      <td>1.241</td>\n",
       "      <td>0.980</td>\n",
       "      <td>4.392</td>\n",
       "      <td>2.278</td>\n",
       "      <td>60.7</td>\n",
       "      <td>19.216</td>\n",
       "      <td>-11.739</td>\n",
       "      <td>-1.398</td>\n",
       "      <td>13.343</td>\n",
       "      <td>3.570</td>\n",
       "      <td>right</td>\n",
       "      <td>left</td>\n",
       "    </tr>\n",
       "    <tr>\n",
       "      <th>1</th>\n",
       "      <td>hard</td>\n",
       "      <td>ad</td>\n",
       "      <td>1</td>\n",
       "      <td>1.083</td>\n",
       "      <td>-11.228</td>\n",
       "      <td>2.817</td>\n",
       "      <td>125.5</td>\n",
       "      <td>97.7</td>\n",
       "      <td>1.019</td>\n",
       "      <td>-0.026</td>\n",
       "      <td>4.528</td>\n",
       "      <td>-0.618</td>\n",
       "      <td>88.8</td>\n",
       "      <td>12.428</td>\n",
       "      <td>-11.744</td>\n",
       "      <td>1.131</td>\n",
       "      <td>15.459</td>\n",
       "      <td>-4.067</td>\n",
       "      <td>left</td>\n",
       "      <td>right</td>\n",
       "    </tr>\n",
       "    <tr>\n",
       "      <th>2</th>\n",
       "      <td>hard</td>\n",
       "      <td>deuce</td>\n",
       "      <td>1</td>\n",
       "      <td>-0.835</td>\n",
       "      <td>-11.149</td>\n",
       "      <td>2.793</td>\n",
       "      <td>109.7</td>\n",
       "      <td>85.5</td>\n",
       "      <td>1.156</td>\n",
       "      <td>2.082</td>\n",
       "      <td>5.378</td>\n",
       "      <td>3.744</td>\n",
       "      <td>75.3</td>\n",
       "      <td>12.737</td>\n",
       "      <td>-11.538</td>\n",
       "      <td>-0.647</td>\n",
       "      <td>13.679</td>\n",
       "      <td>3.544</td>\n",
       "      <td>right</td>\n",
       "      <td>right</td>\n",
       "    </tr>\n",
       "    <tr>\n",
       "      <th>3</th>\n",
       "      <td>clay</td>\n",
       "      <td>ad</td>\n",
       "      <td>2</td>\n",
       "      <td>1.424</td>\n",
       "      <td>-11.488</td>\n",
       "      <td>2.727</td>\n",
       "      <td>97.1</td>\n",
       "      <td>74.1</td>\n",
       "      <td>1.095</td>\n",
       "      <td>-1.170</td>\n",
       "      <td>3.915</td>\n",
       "      <td>-1.853</td>\n",
       "      <td>68.1</td>\n",
       "      <td>17.743</td>\n",
       "      <td>-11.690</td>\n",
       "      <td>1.169</td>\n",
       "      <td>11.378</td>\n",
       "      <td>-3.402</td>\n",
       "      <td>right</td>\n",
       "      <td>right</td>\n",
       "    </tr>\n",
       "    <tr>\n",
       "      <th>4</th>\n",
       "      <td>hard</td>\n",
       "      <td>ad</td>\n",
       "      <td>1</td>\n",
       "      <td>0.472</td>\n",
       "      <td>-10.985</td>\n",
       "      <td>2.660</td>\n",
       "      <td>121.0</td>\n",
       "      <td>95.7</td>\n",
       "      <td>1.094</td>\n",
       "      <td>-0.301</td>\n",
       "      <td>5.267</td>\n",
       "      <td>-0.525</td>\n",
       "      <td>85.5</td>\n",
       "      <td>12.013</td>\n",
       "      <td>-11.508</td>\n",
       "      <td>0.559</td>\n",
       "      <td>14.323</td>\n",
       "      <td>-3.629</td>\n",
       "      <td>right</td>\n",
       "      <td>right</td>\n",
       "    </tr>\n",
       "    <tr>\n",
       "      <th>...</th>\n",
       "      <td>...</td>\n",
       "      <td>...</td>\n",
       "      <td>...</td>\n",
       "      <td>...</td>\n",
       "      <td>...</td>\n",
       "      <td>...</td>\n",
       "      <td>...</td>\n",
       "      <td>...</td>\n",
       "      <td>...</td>\n",
       "      <td>...</td>\n",
       "      <td>...</td>\n",
       "      <td>...</td>\n",
       "      <td>...</td>\n",
       "      <td>...</td>\n",
       "      <td>...</td>\n",
       "      <td>...</td>\n",
       "      <td>...</td>\n",
       "      <td>...</td>\n",
       "      <td>...</td>\n",
       "      <td>...</td>\n",
       "    </tr>\n",
       "    <tr>\n",
       "      <th>187921</th>\n",
       "      <td>hard</td>\n",
       "      <td>deuce</td>\n",
       "      <td>2</td>\n",
       "      <td>-0.303</td>\n",
       "      <td>-11.230</td>\n",
       "      <td>2.725</td>\n",
       "      <td>92.6</td>\n",
       "      <td>73.2</td>\n",
       "      <td>1.230</td>\n",
       "      <td>1.833</td>\n",
       "      <td>4.921</td>\n",
       "      <td>3.108</td>\n",
       "      <td>65.6</td>\n",
       "      <td>15.935</td>\n",
       "      <td>-11.573</td>\n",
       "      <td>-0.361</td>\n",
       "      <td>15.278</td>\n",
       "      <td>3.645</td>\n",
       "      <td>right</td>\n",
       "      <td>right</td>\n",
       "    </tr>\n",
       "    <tr>\n",
       "      <th>187922</th>\n",
       "      <td>hard</td>\n",
       "      <td>ad</td>\n",
       "      <td>1</td>\n",
       "      <td>0.886</td>\n",
       "      <td>-11.358</td>\n",
       "      <td>2.813</td>\n",
       "      <td>112.3</td>\n",
       "      <td>86.1</td>\n",
       "      <td>1.083</td>\n",
       "      <td>-2.094</td>\n",
       "      <td>4.636</td>\n",
       "      <td>-3.113</td>\n",
       "      <td>76.6</td>\n",
       "      <td>13.120</td>\n",
       "      <td>-11.615</td>\n",
       "      <td>0.844</td>\n",
       "      <td>13.219</td>\n",
       "      <td>-3.299</td>\n",
       "      <td>right</td>\n",
       "      <td>right</td>\n",
       "    </tr>\n",
       "    <tr>\n",
       "      <th>187923</th>\n",
       "      <td>hard</td>\n",
       "      <td>ad</td>\n",
       "      <td>1</td>\n",
       "      <td>1.395</td>\n",
       "      <td>-11.254</td>\n",
       "      <td>2.782</td>\n",
       "      <td>104.0</td>\n",
       "      <td>78.7</td>\n",
       "      <td>1.140</td>\n",
       "      <td>-2.276</td>\n",
       "      <td>4.499</td>\n",
       "      <td>-3.556</td>\n",
       "      <td>70.5</td>\n",
       "      <td>16.639</td>\n",
       "      <td>-11.625</td>\n",
       "      <td>1.050</td>\n",
       "      <td>14.470</td>\n",
       "      <td>-3.828</td>\n",
       "      <td>right</td>\n",
       "      <td>right</td>\n",
       "    </tr>\n",
       "    <tr>\n",
       "      <th>187924</th>\n",
       "      <td>clay</td>\n",
       "      <td>deuce</td>\n",
       "      <td>1</td>\n",
       "      <td>-0.623</td>\n",
       "      <td>-11.179</td>\n",
       "      <td>2.806</td>\n",
       "      <td>130.4</td>\n",
       "      <td>104.1</td>\n",
       "      <td>1.203</td>\n",
       "      <td>0.735</td>\n",
       "      <td>6.308</td>\n",
       "      <td>1.568</td>\n",
       "      <td>92.2</td>\n",
       "      <td>10.420</td>\n",
       "      <td>-11.616</td>\n",
       "      <td>-0.988</td>\n",
       "      <td>14.068</td>\n",
       "      <td>3.368</td>\n",
       "      <td>right</td>\n",
       "      <td>right</td>\n",
       "    </tr>\n",
       "    <tr>\n",
       "      <th>187925</th>\n",
       "      <td>clay</td>\n",
       "      <td>ad</td>\n",
       "      <td>1</td>\n",
       "      <td>1.352</td>\n",
       "      <td>-11.401</td>\n",
       "      <td>2.844</td>\n",
       "      <td>98.3</td>\n",
       "      <td>75.4</td>\n",
       "      <td>1.068</td>\n",
       "      <td>-1.913</td>\n",
       "      <td>3.944</td>\n",
       "      <td>-2.796</td>\n",
       "      <td>68.7</td>\n",
       "      <td>19.645</td>\n",
       "      <td>-11.648</td>\n",
       "      <td>0.817</td>\n",
       "      <td>13.287</td>\n",
       "      <td>-3.793</td>\n",
       "      <td>right</td>\n",
       "      <td>right</td>\n",
       "    </tr>\n",
       "  </tbody>\n",
       "</table>\n",
       "<p>177600 rows × 20 columns</p>\n",
       "</div>"
      ],
      "text/plain": [
       "       surface serve_side serve_number  ball_hit_y  ball_hit_x  ball_hit_z  \\\n",
       "0         hard      deuce            2      -1.459     -11.445       2.830   \n",
       "1         hard         ad            1       1.083     -11.228       2.817   \n",
       "2         hard      deuce            1      -0.835     -11.149       2.793   \n",
       "3         clay         ad            2       1.424     -11.488       2.727   \n",
       "4         hard         ad            1       0.472     -10.985       2.660   \n",
       "...        ...        ...          ...         ...         ...         ...   \n",
       "187921    hard      deuce            2      -0.303     -11.230       2.725   \n",
       "187922    hard         ad            1       0.886     -11.358       2.813   \n",
       "187923    hard         ad            1       1.395     -11.254       2.782   \n",
       "187924    clay      deuce            1      -0.623     -11.179       2.806   \n",
       "187925    clay         ad            1       1.352     -11.401       2.844   \n",
       "\n",
       "        ball_hit_v  ball_net_v  ball_net_z  ball_net_y  ball_bounce_x  \\\n",
       "0             91.5        67.9       1.241       0.980          4.392   \n",
       "1            125.5        97.7       1.019      -0.026          4.528   \n",
       "2            109.7        85.5       1.156       2.082          5.378   \n",
       "3             97.1        74.1       1.095      -1.170          3.915   \n",
       "4            121.0        95.7       1.094      -0.301          5.267   \n",
       "...            ...         ...         ...         ...            ...   \n",
       "187921        92.6        73.2       1.230       1.833          4.921   \n",
       "187922       112.3        86.1       1.083      -2.094          4.636   \n",
       "187923       104.0        78.7       1.140      -2.276          4.499   \n",
       "187924       130.4       104.1       1.203       0.735          6.308   \n",
       "187925        98.3        75.4       1.068      -1.913          3.944   \n",
       "\n",
       "        ball_bounce_y  ball_bounce_v  ball_bounce_angle  hitter_x  hitter_y  \\\n",
       "0               2.278           60.7             19.216   -11.739    -1.398   \n",
       "1              -0.618           88.8             12.428   -11.744     1.131   \n",
       "2               3.744           75.3             12.737   -11.538    -0.647   \n",
       "3              -1.853           68.1             17.743   -11.690     1.169   \n",
       "4              -0.525           85.5             12.013   -11.508     0.559   \n",
       "...               ...            ...                ...       ...       ...   \n",
       "187921          3.108           65.6             15.935   -11.573    -0.361   \n",
       "187922         -3.113           76.6             13.120   -11.615     0.844   \n",
       "187923         -3.556           70.5             16.639   -11.625     1.050   \n",
       "187924          1.568           92.2             10.420   -11.616    -0.988   \n",
       "187925         -2.796           68.7             19.645   -11.648     0.817   \n",
       "\n",
       "        receiver_x  receiver_y hitter_hand receiver_hand  \n",
       "0           13.343       3.570       right          left  \n",
       "1           15.459      -4.067        left         right  \n",
       "2           13.679       3.544       right         right  \n",
       "3           11.378      -3.402       right         right  \n",
       "4           14.323      -3.629       right         right  \n",
       "...            ...         ...         ...           ...  \n",
       "187921      15.278       3.645       right         right  \n",
       "187922      13.219      -3.299       right         right  \n",
       "187923      14.470      -3.828       right         right  \n",
       "187924      14.068       3.368       right         right  \n",
       "187925      13.287      -3.793       right         right  \n",
       "\n",
       "[177600 rows x 20 columns]"
      ]
     },
     "execution_count": 4,
     "metadata": {},
     "output_type": "execute_result"
    }
   ],
   "source": [
    "X"
   ]
  },
  {
   "cell_type": "code",
   "execution_count": 5,
   "metadata": {},
   "outputs": [],
   "source": [
    "X_train.drop(columns=\"is_ace\", inplace=True)"
   ]
  },
  {
   "cell_type": "code",
   "execution_count": 6,
   "metadata": {},
   "outputs": [],
   "source": [
    "X_train = dataframe_utils.feature_engineer(X_train)\n",
    "X_test = dataframe_utils.feature_engineer(X_test)"
   ]
  },
  {
   "cell_type": "markdown",
   "metadata": {},
   "source": [
    "## Imbalanced dataset"
   ]
  },
  {
   "cell_type": "markdown",
   "metadata": {},
   "source": [
    "Almost 92% of serves are not aces. The data is highly imbalanced. For the machine learning model to learn effectively, the data has to be balanced. I am using the random oversampler for this. Note that there are not too many unique ways you can serve an ace. ie: high serve speed, aim at the lines, hit where your opponent doesn't expect you to but this will still be to the leftmost or rightmost of the ad/deuce court."
   ]
  },
  {
   "cell_type": "code",
   "execution_count": 7,
   "metadata": {},
   "outputs": [
    {
     "data": {
      "text/plain": [
       "is_ace\n",
       "0    114397\n",
       "1      9923\n",
       "Name: count, dtype: int64"
      ]
     },
     "execution_count": 7,
     "metadata": {},
     "output_type": "execute_result"
    }
   ],
   "source": [
    "y_train.value_counts()"
   ]
  },
  {
   "cell_type": "code",
   "execution_count": 8,
   "metadata": {},
   "outputs": [
    {
     "data": {
      "image/png": "[encoded data removed]",
      "text/plain": [
       "<Figure size 640x480 with 1 Axes>"
      ]
     },
     "metadata": {},
     "output_type": "display_data"
    }
   ],
   "source": [
    "sns.countplot(data=pd.DataFrame(y_train), x=\"is_ace\", hue=\"is_ace\")\n",
    "plt.xlabel(\"Target\", fontsize=15)\n",
    "plt.xticks(rotation=90)\n",
    "plt.ylabel(\"Count\", fontsize=15)\n",
    "plt.title(\"Before sampling\", fontsize=20)\n",
    "plt.show()"
   ]
  },
  {
   "cell_type": "code",
   "execution_count": 9,
   "metadata": {},
   "outputs": [],
   "source": [
    "# Random oversampling to make the majority and minority class even\n",
    "\n",
    "rd_over_sample = RandomOverSampler()\n",
    "X_train, y_train = rd_over_sample.fit_resample(X_train, y_train)"
   ]
  },
  {
   "cell_type": "code",
   "execution_count": 10,
   "metadata": {},
   "outputs": [
    {
     "data": {
      "image/png": "[encoded data removed]",
      "text/plain": [
       "<Figure size 640x480 with 1 Axes>"
      ]
     },
     "metadata": {},
     "output_type": "display_data"
    }
   ],
   "source": [
    "sns.countplot(data=pd.DataFrame(y_train), x=\"is_ace\", hue=\"is_ace\")\n",
    "plt.xlabel(\"Target\", fontsize=15)\n",
    "plt.xticks(rotation=90)\n",
    "plt.ylabel(\"Count\", fontsize=15)\n",
    "plt.title(\"After sampling\", fontsize=20)\n",
    "plt.show()"
   ]
  },
  {
   "cell_type": "markdown",
   "metadata": {},
   "source": [
    "# Models"
   ]
  },
  {
   "cell_type": "markdown",
   "metadata": {},
   "source": []
  },
  {
   "cell_type": "code",
   "execution_count": 21,
   "metadata": {},
   "outputs": [],
   "source": [
    "def scoring():\n",
    "    \"\"\"A function to print scores and save them in lists.\"\"\"\n",
    "\n",
    "    print(\"-----Test Data Accuracy----\")\n",
    "    a_s = round(accuracy_score(y_test.to_numpy(), y_pred), 4)\n",
    "    print(\"Accuracy score:\", a_s)\n",
    "    f_1 = round(f1_score(y_test.to_numpy(), y_pred), 4)\n",
    "    print(\"F1 score:\", f_1)\n",
    "    accuracy_test.append(a_s)\n",
    "    F1score_test.append(f_1)\n",
    "\n",
    "    print(\"\\n-----Train Data Accuracy----\")\n",
    "    a_s = round(accuracy_score(y_train.to_numpy(), y_pred_train), 4)\n",
    "    print(\"Accuracy score:\", a_s)\n",
    "    f_1 = round(f1_score(y_train.to_numpy(), y_pred_train), 4)\n",
    "    print(\"F1 score:\", f_1)\n",
    "    accuracy_train.append(a_s)\n",
    "    F1score_train.append(f_1)"
   ]
  },
  {
   "cell_type": "code",
   "execution_count": 11,
   "metadata": {},
   "outputs": [],
   "source": [
    "# Saving model scores in list for final evaluation\n",
    "accuracy_test = []\n",
    "accuracy_train = []\n",
    "F1score_test = []\n",
    "F1score_train = []"
   ]
  },
  {
   "cell_type": "markdown",
   "metadata": {},
   "source": [
    "## Random Forest Classifer"
   ]
  },
  {
   "cell_type": "code",
   "execution_count": 17,
   "metadata": {},
   "outputs": [
    {
     "data": {
      "text/plain": [
       "['model.joblib']"
      ]
     },
     "execution_count": 17,
     "metadata": {},
     "output_type": "execute_result"
    }
   ],
   "source": [
    "# rfc = RandomForestClassifier(random_state=42, max_depth=10)\n",
    "\n",
    "# # Training Model\n",
    "# rfc.fit(X_train, y_train)\n",
    "# # Save model\n",
    "# joblib.dump(rfc, \"model.joblib\")"
   ]
  },
  {
   "cell_type": "code",
   "execution_count": 18,
   "metadata": {},
   "outputs": [],
   "source": [
    "# Load model\n",
    "saved_model = joblib.load(\"model.joblib\")\n",
    "# Predict\n",
    "y_pred = saved_model.predict(X_test)\n",
    "y_pred_train = saved_model.predict(X_train)\n",
    "\n",
    "scoring()"
   ]
  },
  {
   "cell_type": "code",
   "execution_count": null,
   "metadata": {},
   "outputs": [],
   "source": []
  }
 ],
 "metadata": {
  "kernelspec": {
   "display_name": "base",
   "language": "python",
   "name": "python3"
  },
  "language_info": {
   "codemirror_mode": {
    "name": "ipython",
    "version": 3
   },
   "file_extension": ".py",
   "mimetype": "text/x-python",
   "name": "python",
   "nbconvert_exporter": "python",
   "pygments_lexer": "ipython3",
   "version": "3.11.7"
  }
 },
 "nbformat": 4,
 "nbformat_minor": 2
}
