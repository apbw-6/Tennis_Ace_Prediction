{
 "cells": [
  {
   "cell_type": "markdown",
   "metadata": {},
   "source": [
    "# Model training"
   ]
  },
  {
   "cell_type": "markdown",
   "metadata": {},
   "source": [
    "In this file, I want to build and train some models and select the best predictor of ace/no ace."
   ]
  },
  {
   "cell_type": "markdown",
   "metadata": {},
   "source": [
    "## Importing libraries"
   ]
  },
  {
   "cell_type": "code",
   "execution_count": 5,
   "metadata": {},
   "outputs": [],
   "source": [
    "# Import everything from my_libraries.py\n",
    "from my_libraries import *\n",
    "\n",
    "# Other utilities\n",
    "import tennis_utils\n",
    "import dataframe_utils"
   ]
  },
  {
   "cell_type": "code",
   "execution_count": 6,
   "metadata": {},
   "outputs": [
    {
     "ename": "NameError",
     "evalue": "name 'SimpleImputer' is not defined",
     "output_type": "error",
     "traceback": [
      "\u001b[0;31m---------------------------------------------------------------------------\u001b[0m",
      "\u001b[0;31mNameError\u001b[0m                                 Traceback (most recent call last)",
      "Cell \u001b[0;32mIn[6], line 5\u001b[0m\n\u001b[1;32m      2\u001b[0m df \u001b[38;5;241m=\u001b[39m pd\u001b[38;5;241m.\u001b[39mread_csv(\u001b[38;5;124m\"\u001b[39m\u001b[38;5;124mdatasets/task_set.csv\u001b[39m\u001b[38;5;124m\"\u001b[39m)\n\u001b[1;32m      4\u001b[0m \u001b[38;5;66;03m# Clean dataframe\u001b[39;00m\n\u001b[0;32m----> 5\u001b[0m df \u001b[38;5;241m=\u001b[39m dataframe_utils\u001b[38;5;241m.\u001b[39mclean_dataframe(df)\n\u001b[1;32m      7\u001b[0m \u001b[38;5;66;03m# Split data while maintaining the proportion of 'is_ace'\u001b[39;00m\n\u001b[1;32m      8\u001b[0m X \u001b[38;5;241m=\u001b[39m df\u001b[38;5;241m.\u001b[39mdrop(\u001b[38;5;124m\"\u001b[39m\u001b[38;5;124mis_ace\u001b[39m\u001b[38;5;124m\"\u001b[39m, axis\u001b[38;5;241m=\u001b[39m\u001b[38;5;241m1\u001b[39m)\n",
      "File \u001b[0;32m~/Desktop/Machine_Learning_Beginner/Tennis_Ace_Prediction/dataframe_utils.py:117\u001b[0m, in \u001b[0;36mclean_dataframe\u001b[0;34m(df)\u001b[0m\n\u001b[1;32m    114\u001b[0m df \u001b[38;5;241m=\u001b[39m df[df[\u001b[38;5;124m\"\u001b[39m\u001b[38;5;124mball_hit_v\u001b[39m\u001b[38;5;124m\"\u001b[39m] \u001b[38;5;241m>\u001b[39m df[\u001b[38;5;124m\"\u001b[39m\u001b[38;5;124mball_net_v\u001b[39m\u001b[38;5;124m\"\u001b[39m]]    \n\u001b[1;32m    116\u001b[0m \u001b[38;5;66;03m# Create an imputer that fills missing values with the most frequent category\u001b[39;00m\n\u001b[0;32m--> 117\u001b[0m imputer \u001b[38;5;241m=\u001b[39m SimpleImputer(strategy\u001b[38;5;241m=\u001b[39m\u001b[38;5;124m\"\u001b[39m\u001b[38;5;124mmost_frequent\u001b[39m\u001b[38;5;124m\"\u001b[39m)\n\u001b[1;32m    119\u001b[0m cols_most_frequent \u001b[38;5;241m=\u001b[39m [\n\u001b[1;32m    120\u001b[0m     \u001b[38;5;124m\"\u001b[39m\u001b[38;5;124msurface\u001b[39m\u001b[38;5;124m\"\u001b[39m,\n\u001b[1;32m    121\u001b[0m     \u001b[38;5;124m\"\u001b[39m\u001b[38;5;124mserve_side\u001b[39m\u001b[38;5;124m\"\u001b[39m,\n\u001b[0;32m   (...)\u001b[0m\n\u001b[1;32m    124\u001b[0m     \u001b[38;5;124m\"\u001b[39m\u001b[38;5;124mreceiver_hand\u001b[39m\u001b[38;5;124m\"\u001b[39m,\n\u001b[1;32m    125\u001b[0m ]\n\u001b[1;32m    126\u001b[0m df[cols_most_frequent] \u001b[38;5;241m=\u001b[39m imputer\u001b[38;5;241m.\u001b[39mfit_transform(df[cols_most_frequent])\n",
      "\u001b[0;31mNameError\u001b[0m: name 'SimpleImputer' is not defined"
     ]
    }
   ],
   "source": [
    "# Read into dataframe\n",
    "df = pd.read_csv(\"datasets/task_set.csv\")\n",
    "\n",
    "# Clean dataframe\n",
    "df = dataframe_utils.clean_dataframe(df)\n",
    "\n",
    "# Split data while maintaining the proportion of 'is_ace'\n",
    "X = df.drop(\"is_ace\", axis=1)\n",
    "y = df[\"is_ace\"]\n",
    "\n",
    "# Perform stratified split using train_test_split\n",
    "X_train, X_test, y_train, y_test = train_test_split(\n",
    "    X, y, test_size=0.3, stratify=y, random_state=42\n",
    ")\n",
    "\n",
    "# Save the train dataset in a new csv file\n",
    "train_df = X_train\n",
    "train_df[\"is_ace\"] = y_train\n",
    "train_df.to_csv(\"datasets/train_dataset.csv\")"
   ]
  }
 ],
 "metadata": {
  "kernelspec": {
   "display_name": "base",
   "language": "python",
   "name": "python3"
  },
  "language_info": {
   "codemirror_mode": {
    "name": "ipython",
    "version": 3
   },
   "file_extension": ".py",
   "mimetype": "text/x-python",
   "name": "python",
   "nbconvert_exporter": "python",
   "pygments_lexer": "ipython3",
   "version": "3.11.7"
  }
 },
 "nbformat": 4,
 "nbformat_minor": 2
}
