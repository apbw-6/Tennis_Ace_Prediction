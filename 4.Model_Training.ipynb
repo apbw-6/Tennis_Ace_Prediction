{
 "cells": [
  {
   "cell_type": "markdown",
   "metadata": {},
   "source": [
    "# Model training"
   ]
  },
  {
   "cell_type": "markdown",
   "metadata": {},
   "source": [
    "In this file, I want to build and train some models and select the best predictor of ace/no ace."
   ]
  },
  {
   "cell_type": "markdown",
   "metadata": {},
   "source": [
    "## Importing libraries"
   ]
  },
  {
   "cell_type": "code",
   "execution_count": 1,
   "metadata": {},
   "outputs": [
    {
     "name": "stderr",
     "output_type": "stream",
     "text": [
      "2025-02-10 00:43:44.660582: I tensorflow/core/platform/cpu_feature_guard.cc:210] This TensorFlow binary is optimized to use available CPU instructions in performance-critical operations.\n",
      "To enable the following instructions: AVX2 FMA, in other operations, rebuild TensorFlow with the appropriate compiler flags.\n"
     ]
    }
   ],
   "source": [
    "# Import everything from my_libraries.py\n",
    "from my_libraries import *  # noqa: F403\n",
    "\n",
    "# Other utilities\n",
    "import tennis_utils\n",
    "import dataframe_utils\n",
    "\n",
    "from sklearn.model_selection import GridSearchCV\n",
    "from sklearn.tree import DecisionTreeClassifier\n",
    "from sklearn.ensemble import RandomForestClassifier\n",
    "from sklearn.svm import SVC\n",
    "from xgboost import XGBClassifier\n",
    "from sklearn.ensemble import VotingClassifier\n",
    "from sklearn.ensemble import GradientBoostingClassifier\n",
    "import tensorflow as tf\n",
    "from tensorflow.keras.models import Sequential\n",
    "from tensorflow.keras.layers import Dense, Dropout"
   ]
  },
  {
   "cell_type": "code",
   "execution_count": 2,
   "metadata": {},
   "outputs": [],
   "source": [
    "# Read into dataframe\n",
    "df = pd.read_csv(\"datasets/task_set.csv\")\n",
    "\n",
    "# Clean dataframe\n",
    "df = dataframe_utils.clean_dataframe(df)\n",
    "# Impute missing values\n",
    "df = dataframe_utils.impute_data(df)"
   ]
  },
  {
   "cell_type": "code",
   "execution_count": 3,
   "metadata": {},
   "outputs": [],
   "source": [
    "# Split data while maintaining the proportion of 'is_ace'\n",
    "X = df.drop(\"is_ace\", axis=1)\n",
    "y = df[\"is_ace\"]\n",
    "\n",
    "# Perform stratified split using train_test_split\n",
    "X_train, X_test, y_train, y_test = train_test_split(\n",
    "    X, y, test_size=0.3, stratify=y, random_state=42\n",
    ")\n",
    "\n",
    "# Save the train dataset in a new csv file\n",
    "train_df = X_train\n",
    "test_df = X_test\n",
    "train_df[\"is_ace\"] = y_train\n",
    "train_df.to_csv(\"datasets/train_dataset.csv\")"
   ]
  },
  {
   "cell_type": "code",
   "execution_count": 4,
   "metadata": {},
   "outputs": [
    {
     "data": {
      "text/html": [
       "<div>\n",
       "<style scoped>\n",
       "    .dataframe tbody tr th:only-of-type {\n",
       "        vertical-align: middle;\n",
       "    }\n",
       "\n",
       "    .dataframe tbody tr th {\n",
       "        vertical-align: top;\n",
       "    }\n",
       "\n",
       "    .dataframe thead th {\n",
       "        text-align: right;\n",
       "    }\n",
       "</style>\n",
       "<table border=\"1\" class=\"dataframe\">\n",
       "  <thead>\n",
       "    <tr style=\"text-align: right;\">\n",
       "      <th></th>\n",
       "      <th>surface</th>\n",
       "      <th>serve_side</th>\n",
       "      <th>serve_number</th>\n",
       "      <th>ball_hit_y</th>\n",
       "      <th>ball_hit_x</th>\n",
       "      <th>ball_hit_z</th>\n",
       "      <th>ball_hit_v</th>\n",
       "      <th>ball_net_v</th>\n",
       "      <th>ball_net_z</th>\n",
       "      <th>ball_net_y</th>\n",
       "      <th>ball_bounce_x</th>\n",
       "      <th>ball_bounce_y</th>\n",
       "      <th>ball_bounce_v</th>\n",
       "      <th>ball_bounce_angle</th>\n",
       "      <th>hitter_x</th>\n",
       "      <th>hitter_y</th>\n",
       "      <th>receiver_x</th>\n",
       "      <th>receiver_y</th>\n",
       "      <th>hitter_hand</th>\n",
       "      <th>receiver_hand</th>\n",
       "    </tr>\n",
       "  </thead>\n",
       "  <tbody>\n",
       "    <tr>\n",
       "      <th>0</th>\n",
       "      <td>hard</td>\n",
       "      <td>deuce</td>\n",
       "      <td>2</td>\n",
       "      <td>-1.459</td>\n",
       "      <td>-11.445</td>\n",
       "      <td>2.830</td>\n",
       "      <td>91.5</td>\n",
       "      <td>67.9</td>\n",
       "      <td>1.241</td>\n",
       "      <td>0.980</td>\n",
       "      <td>4.392</td>\n",
       "      <td>2.278</td>\n",
       "      <td>60.7</td>\n",
       "      <td>19.216</td>\n",
       "      <td>-11.739</td>\n",
       "      <td>-1.398</td>\n",
       "      <td>13.343</td>\n",
       "      <td>3.570</td>\n",
       "      <td>right</td>\n",
       "      <td>left</td>\n",
       "    </tr>\n",
       "    <tr>\n",
       "      <th>1</th>\n",
       "      <td>hard</td>\n",
       "      <td>ad</td>\n",
       "      <td>1</td>\n",
       "      <td>1.083</td>\n",
       "      <td>-11.228</td>\n",
       "      <td>2.817</td>\n",
       "      <td>125.5</td>\n",
       "      <td>97.7</td>\n",
       "      <td>1.019</td>\n",
       "      <td>-0.026</td>\n",
       "      <td>4.528</td>\n",
       "      <td>-0.618</td>\n",
       "      <td>88.8</td>\n",
       "      <td>12.428</td>\n",
       "      <td>-11.744</td>\n",
       "      <td>1.131</td>\n",
       "      <td>15.459</td>\n",
       "      <td>-4.067</td>\n",
       "      <td>left</td>\n",
       "      <td>right</td>\n",
       "    </tr>\n",
       "    <tr>\n",
       "      <th>2</th>\n",
       "      <td>hard</td>\n",
       "      <td>deuce</td>\n",
       "      <td>1</td>\n",
       "      <td>-0.835</td>\n",
       "      <td>-11.149</td>\n",
       "      <td>2.793</td>\n",
       "      <td>109.7</td>\n",
       "      <td>85.5</td>\n",
       "      <td>1.156</td>\n",
       "      <td>2.082</td>\n",
       "      <td>5.378</td>\n",
       "      <td>3.744</td>\n",
       "      <td>75.3</td>\n",
       "      <td>12.737</td>\n",
       "      <td>-11.538</td>\n",
       "      <td>-0.647</td>\n",
       "      <td>13.679</td>\n",
       "      <td>3.544</td>\n",
       "      <td>right</td>\n",
       "      <td>right</td>\n",
       "    </tr>\n",
       "    <tr>\n",
       "      <th>3</th>\n",
       "      <td>clay</td>\n",
       "      <td>ad</td>\n",
       "      <td>2</td>\n",
       "      <td>1.424</td>\n",
       "      <td>-11.488</td>\n",
       "      <td>2.727</td>\n",
       "      <td>97.1</td>\n",
       "      <td>74.1</td>\n",
       "      <td>1.095</td>\n",
       "      <td>-1.170</td>\n",
       "      <td>3.915</td>\n",
       "      <td>-1.853</td>\n",
       "      <td>68.1</td>\n",
       "      <td>17.743</td>\n",
       "      <td>-11.690</td>\n",
       "      <td>1.169</td>\n",
       "      <td>11.378</td>\n",
       "      <td>-3.402</td>\n",
       "      <td>right</td>\n",
       "      <td>right</td>\n",
       "    </tr>\n",
       "    <tr>\n",
       "      <th>4</th>\n",
       "      <td>hard</td>\n",
       "      <td>ad</td>\n",
       "      <td>1</td>\n",
       "      <td>0.472</td>\n",
       "      <td>-10.985</td>\n",
       "      <td>2.660</td>\n",
       "      <td>121.0</td>\n",
       "      <td>95.7</td>\n",
       "      <td>1.094</td>\n",
       "      <td>-0.301</td>\n",
       "      <td>5.267</td>\n",
       "      <td>-0.525</td>\n",
       "      <td>85.5</td>\n",
       "      <td>12.013</td>\n",
       "      <td>-11.508</td>\n",
       "      <td>0.559</td>\n",
       "      <td>14.323</td>\n",
       "      <td>-3.629</td>\n",
       "      <td>right</td>\n",
       "      <td>right</td>\n",
       "    </tr>\n",
       "    <tr>\n",
       "      <th>...</th>\n",
       "      <td>...</td>\n",
       "      <td>...</td>\n",
       "      <td>...</td>\n",
       "      <td>...</td>\n",
       "      <td>...</td>\n",
       "      <td>...</td>\n",
       "      <td>...</td>\n",
       "      <td>...</td>\n",
       "      <td>...</td>\n",
       "      <td>...</td>\n",
       "      <td>...</td>\n",
       "      <td>...</td>\n",
       "      <td>...</td>\n",
       "      <td>...</td>\n",
       "      <td>...</td>\n",
       "      <td>...</td>\n",
       "      <td>...</td>\n",
       "      <td>...</td>\n",
       "      <td>...</td>\n",
       "      <td>...</td>\n",
       "    </tr>\n",
       "    <tr>\n",
       "      <th>187921</th>\n",
       "      <td>hard</td>\n",
       "      <td>deuce</td>\n",
       "      <td>2</td>\n",
       "      <td>-0.303</td>\n",
       "      <td>-11.230</td>\n",
       "      <td>2.725</td>\n",
       "      <td>92.6</td>\n",
       "      <td>73.2</td>\n",
       "      <td>1.230</td>\n",
       "      <td>1.833</td>\n",
       "      <td>4.921</td>\n",
       "      <td>3.108</td>\n",
       "      <td>65.6</td>\n",
       "      <td>15.935</td>\n",
       "      <td>-11.573</td>\n",
       "      <td>-0.361</td>\n",
       "      <td>15.278</td>\n",
       "      <td>3.645</td>\n",
       "      <td>right</td>\n",
       "      <td>right</td>\n",
       "    </tr>\n",
       "    <tr>\n",
       "      <th>187922</th>\n",
       "      <td>hard</td>\n",
       "      <td>ad</td>\n",
       "      <td>1</td>\n",
       "      <td>0.886</td>\n",
       "      <td>-11.358</td>\n",
       "      <td>2.813</td>\n",
       "      <td>112.3</td>\n",
       "      <td>86.1</td>\n",
       "      <td>1.083</td>\n",
       "      <td>-2.094</td>\n",
       "      <td>4.636</td>\n",
       "      <td>-3.113</td>\n",
       "      <td>76.6</td>\n",
       "      <td>13.120</td>\n",
       "      <td>-11.615</td>\n",
       "      <td>0.844</td>\n",
       "      <td>13.219</td>\n",
       "      <td>-3.299</td>\n",
       "      <td>right</td>\n",
       "      <td>right</td>\n",
       "    </tr>\n",
       "    <tr>\n",
       "      <th>187923</th>\n",
       "      <td>hard</td>\n",
       "      <td>ad</td>\n",
       "      <td>1</td>\n",
       "      <td>1.395</td>\n",
       "      <td>-11.254</td>\n",
       "      <td>2.782</td>\n",
       "      <td>104.0</td>\n",
       "      <td>78.7</td>\n",
       "      <td>1.140</td>\n",
       "      <td>-2.276</td>\n",
       "      <td>4.499</td>\n",
       "      <td>-3.556</td>\n",
       "      <td>70.5</td>\n",
       "      <td>16.639</td>\n",
       "      <td>-11.625</td>\n",
       "      <td>1.050</td>\n",
       "      <td>14.470</td>\n",
       "      <td>-3.828</td>\n",
       "      <td>right</td>\n",
       "      <td>right</td>\n",
       "    </tr>\n",
       "    <tr>\n",
       "      <th>187924</th>\n",
       "      <td>clay</td>\n",
       "      <td>deuce</td>\n",
       "      <td>1</td>\n",
       "      <td>-0.623</td>\n",
       "      <td>-11.179</td>\n",
       "      <td>2.806</td>\n",
       "      <td>130.4</td>\n",
       "      <td>104.1</td>\n",
       "      <td>1.203</td>\n",
       "      <td>0.735</td>\n",
       "      <td>6.308</td>\n",
       "      <td>1.568</td>\n",
       "      <td>92.2</td>\n",
       "      <td>10.420</td>\n",
       "      <td>-11.616</td>\n",
       "      <td>-0.988</td>\n",
       "      <td>14.068</td>\n",
       "      <td>3.368</td>\n",
       "      <td>right</td>\n",
       "      <td>right</td>\n",
       "    </tr>\n",
       "    <tr>\n",
       "      <th>187925</th>\n",
       "      <td>clay</td>\n",
       "      <td>ad</td>\n",
       "      <td>1</td>\n",
       "      <td>1.352</td>\n",
       "      <td>-11.401</td>\n",
       "      <td>2.844</td>\n",
       "      <td>98.3</td>\n",
       "      <td>75.4</td>\n",
       "      <td>1.068</td>\n",
       "      <td>-1.913</td>\n",
       "      <td>3.944</td>\n",
       "      <td>-2.796</td>\n",
       "      <td>68.7</td>\n",
       "      <td>19.645</td>\n",
       "      <td>-11.648</td>\n",
       "      <td>0.817</td>\n",
       "      <td>13.287</td>\n",
       "      <td>-3.793</td>\n",
       "      <td>right</td>\n",
       "      <td>right</td>\n",
       "    </tr>\n",
       "  </tbody>\n",
       "</table>\n",
       "<p>177600 rows × 20 columns</p>\n",
       "</div>"
      ],
      "text/plain": [
       "       surface serve_side serve_number  ball_hit_y  ball_hit_x  ball_hit_z  \\\n",
       "0         hard      deuce            2      -1.459     -11.445       2.830   \n",
       "1         hard         ad            1       1.083     -11.228       2.817   \n",
       "2         hard      deuce            1      -0.835     -11.149       2.793   \n",
       "3         clay         ad            2       1.424     -11.488       2.727   \n",
       "4         hard         ad            1       0.472     -10.985       2.660   \n",
       "...        ...        ...          ...         ...         ...         ...   \n",
       "187921    hard      deuce            2      -0.303     -11.230       2.725   \n",
       "187922    hard         ad            1       0.886     -11.358       2.813   \n",
       "187923    hard         ad            1       1.395     -11.254       2.782   \n",
       "187924    clay      deuce            1      -0.623     -11.179       2.806   \n",
       "187925    clay         ad            1       1.352     -11.401       2.844   \n",
       "\n",
       "        ball_hit_v  ball_net_v  ball_net_z  ball_net_y  ball_bounce_x  \\\n",
       "0             91.5        67.9       1.241       0.980          4.392   \n",
       "1            125.5        97.7       1.019      -0.026          4.528   \n",
       "2            109.7        85.5       1.156       2.082          5.378   \n",
       "3             97.1        74.1       1.095      -1.170          3.915   \n",
       "4            121.0        95.7       1.094      -0.301          5.267   \n",
       "...            ...         ...         ...         ...            ...   \n",
       "187921        92.6        73.2       1.230       1.833          4.921   \n",
       "187922       112.3        86.1       1.083      -2.094          4.636   \n",
       "187923       104.0        78.7       1.140      -2.276          4.499   \n",
       "187924       130.4       104.1       1.203       0.735          6.308   \n",
       "187925        98.3        75.4       1.068      -1.913          3.944   \n",
       "\n",
       "        ball_bounce_y  ball_bounce_v  ball_bounce_angle  hitter_x  hitter_y  \\\n",
       "0               2.278           60.7             19.216   -11.739    -1.398   \n",
       "1              -0.618           88.8             12.428   -11.744     1.131   \n",
       "2               3.744           75.3             12.737   -11.538    -0.647   \n",
       "3              -1.853           68.1             17.743   -11.690     1.169   \n",
       "4              -0.525           85.5             12.013   -11.508     0.559   \n",
       "...               ...            ...                ...       ...       ...   \n",
       "187921          3.108           65.6             15.935   -11.573    -0.361   \n",
       "187922         -3.113           76.6             13.120   -11.615     0.844   \n",
       "187923         -3.556           70.5             16.639   -11.625     1.050   \n",
       "187924          1.568           92.2             10.420   -11.616    -0.988   \n",
       "187925         -2.796           68.7             19.645   -11.648     0.817   \n",
       "\n",
       "        receiver_x  receiver_y hitter_hand receiver_hand  \n",
       "0           13.343       3.570       right          left  \n",
       "1           15.459      -4.067        left         right  \n",
       "2           13.679       3.544       right         right  \n",
       "3           11.378      -3.402       right         right  \n",
       "4           14.323      -3.629       right         right  \n",
       "...            ...         ...         ...           ...  \n",
       "187921      15.278       3.645       right         right  \n",
       "187922      13.219      -3.299       right         right  \n",
       "187923      14.470      -3.828       right         right  \n",
       "187924      14.068       3.368       right         right  \n",
       "187925      13.287      -3.793       right         right  \n",
       "\n",
       "[177600 rows x 20 columns]"
      ]
     },
     "execution_count": 4,
     "metadata": {},
     "output_type": "execute_result"
    }
   ],
   "source": [
    "X"
   ]
  },
  {
   "cell_type": "code",
   "execution_count": 5,
   "metadata": {},
   "outputs": [],
   "source": [
    "X_train.drop(columns=\"is_ace\", inplace=True)"
   ]
  },
  {
   "cell_type": "code",
   "execution_count": 6,
   "metadata": {},
   "outputs": [],
   "source": [
    "X_train = dataframe_utils.feature_engineer(X_train)\n",
    "X_test = dataframe_utils.feature_engineer(X_test)"
   ]
  },
  {
   "cell_type": "markdown",
   "metadata": {},
   "source": [
    "## Imbalanced dataset"
   ]
  },
  {
   "cell_type": "markdown",
   "metadata": {},
   "source": [
    "Almost 92% of serves are not aces. The data is highly imbalanced. For the machine learning model to learn effectively, the data has to be balanced. I am using the random oversampler for this. Note that there are not too many unique ways you can serve an ace. ie: high serve speed, aim at the lines, hit where your opponent doesn't expect you to but this will still be to the leftmost or rightmost of the ad/deuce court."
   ]
  },
  {
   "cell_type": "code",
   "execution_count": 7,
   "metadata": {},
   "outputs": [
    {
     "data": {
      "text/plain": [
       "is_ace\n",
       "0    114397\n",
       "1      9923\n",
       "Name: count, dtype: int64"
      ]
     },
     "execution_count": 7,
     "metadata": {},
     "output_type": "execute_result"
    }
   ],
   "source": [
    "y_train.value_counts()"
   ]
  },
  {
   "cell_type": "code",
   "execution_count": 8,
   "metadata": {},
   "outputs": [
    {
     "data": {
      "image/png": "[encoded data removed]",
      "text/plain": [
       "<Figure size 640x480 with 1 Axes>"
      ]
     },
     "metadata": {},
     "output_type": "display_data"
    }
   ],
   "source": [
    "sns.countplot(data=pd.DataFrame(y_train), x=\"is_ace\", hue=\"is_ace\")\n",
    "plt.xlabel(\"Target\", fontsize=15)\n",
    "plt.xticks(rotation=90)\n",
    "plt.ylabel(\"Count\", fontsize=15)\n",
    "plt.title(\"Before sampling\", fontsize=20)\n",
    "plt.show()"
   ]
  },
  {
   "cell_type": "code",
   "execution_count": 57,
   "metadata": {},
   "outputs": [],
   "source": [
    "# # Random oversampling to make the majority and minority class even\n",
    "\n",
    "# rd_over_sample = RandomOverSampler()\n",
    "# X_train, y_train = rd_over_sample.fit_resample(X_train, y_train)"
   ]
  },
  {
   "cell_type": "code",
   "execution_count": 9,
   "metadata": {},
   "outputs": [],
   "source": [
    "# SMOTE sampling\n",
    "smote = SMOTE(random_state=42)\n",
    "X_train, y_train = smote.fit_resample(X_train, y_train)"
   ]
  },
  {
   "cell_type": "code",
   "execution_count": 10,
   "metadata": {},
   "outputs": [
    {
     "data": {
      "image/png": "[encoded data removed]",
      "text/plain": [
       "<Figure size 640x480 with 1 Axes>"
      ]
     },
     "metadata": {},
     "output_type": "display_data"
    }
   ],
   "source": [
    "sns.countplot(data=pd.DataFrame(y_train), x=\"is_ace\", hue=\"is_ace\")\n",
    "plt.xlabel(\"Target\", fontsize=15)\n",
    "plt.xticks(rotation=90)\n",
    "plt.ylabel(\"Count\", fontsize=15)\n",
    "plt.title(\"After sampling\", fontsize=20)\n",
    "plt.show()"
   ]
  },
  {
   "cell_type": "markdown",
   "metadata": {},
   "source": [
    "# Models"
   ]
  },
  {
   "cell_type": "markdown",
   "metadata": {},
   "source": []
  },
  {
   "cell_type": "code",
   "execution_count": 11,
   "metadata": {},
   "outputs": [],
   "source": [
    "def scoring():\n",
    "    \"\"\"A function to print scores and save them in lists.\"\"\"\n",
    "\n",
    "    print(\"-----Test Data Accuracy----\")\n",
    "    a_s = round(accuracy_score(y_test.to_numpy(), y_pred), 4)\n",
    "    print(\"Accuracy score:\", a_s)\n",
    "    f_1 = round(f1_score(y_test.to_numpy(), y_pred), 4)\n",
    "    print(\"F1 score:\", f_1)\n",
    "    accuracy_test.append(a_s)\n",
    "    F1score_test.append(f_1)\n",
    "\n",
    "    print(\"\\n-----Train Data Accuracy----\")\n",
    "    a_s = round(accuracy_score(y_train.to_numpy(), y_pred_train), 4)\n",
    "    print(\"Accuracy score:\", a_s)\n",
    "    f_1 = round(f1_score(y_train.to_numpy(), y_pred_train), 4)\n",
    "    print(\"F1 score:\", f_1)\n",
    "    accuracy_train.append(a_s)\n",
    "    F1score_train.append(f_1)"
   ]
  },
  {
   "cell_type": "code",
   "execution_count": 12,
   "metadata": {},
   "outputs": [],
   "source": [
    "# Saving model scores in list for final evaluation\n",
    "accuracy_test = []\n",
    "accuracy_train = []\n",
    "F1score_test = []\n",
    "F1score_train = []"
   ]
  },
  {
   "cell_type": "markdown",
   "metadata": {},
   "source": [
    "## Random Forest Classifer"
   ]
  },
  {
   "cell_type": "code",
   "execution_count": 13,
   "metadata": {},
   "outputs": [],
   "source": [
    "# Got the best split from the GridSearchCV below\n",
    "rfc = RandomForestClassifier(random_state=42, max_depth=10, n_estimators=50, min_samples_split=6)\n",
    "\n",
    "# Training Model\n",
    "rfc.fit(X_train, y_train)\n",
    "# Save model\n",
    "joblib.dump(rfc, \"rfc_model.joblib\")\n",
    "# Load model\n",
    "saved_model = joblib.load(\"rfc_model.joblib\")\n",
    "# Predict\n",
    "y_pred = saved_model.predict(X_test)\n",
    "y_pred_train = saved_model.predict(X_train)"
   ]
  },
  {
   "cell_type": "code",
   "execution_count": 14,
   "metadata": {},
   "outputs": [
    {
     "name": "stdout",
     "output_type": "stream",
     "text": [
      "-----Test Data Accuracy----\n",
      "Accuracy score: 0.8822\n",
      "F1 score: 0.5337\n",
      "\n",
      "-----Train Data Accuracy----\n",
      "Accuracy score: 0.9076\n",
      "F1 score: 0.9092\n"
     ]
    }
   ],
   "source": [
    "scoring()"
   ]
  },
  {
   "cell_type": "markdown",
   "metadata": {},
   "source": [
    "### Using gridsearch cv for hyper parameter tuning"
   ]
  },
  {
   "cell_type": "code",
   "execution_count": 63,
   "metadata": {},
   "outputs": [],
   "source": [
    "# param_grid = [\n",
    "#     {\n",
    "#         \"n_estimators\": [20, 50],\n",
    "#         \"max_depth\": [5, 7, 10],\n",
    "#         \"min_samples_split\": [2, 3, 6],\n",
    "#     }\n",
    "# ]\n",
    "\n",
    "# grid_search = GridSearchCV(\n",
    "#     estimator=RandomForestClassifier(),\n",
    "#     param_grid=param_grid,\n",
    "#     cv=2,\n",
    "#     return_train_score=True,\n",
    "#     verbose=True,\n",
    "# )\n",
    "# grid_search.fit(X_train, y_train)\n",
    "\n",
    "# # Save the model so you don't have to run Gridsearchcv again.\n",
    "# # Access the best model\n",
    "# best_model = grid_search.best_estimator_\n",
    "# best_parameters = grid_search.best_params_\n",
    "# best_score = grid_search.best_score_\n",
    "\n",
    "# # Save the best model to a file using joblib\n",
    "# joblib.dump(best_model, \"best_random_forest_model.joblib\")\n",
    "\n",
    "# # Grid_search.cv_results_ is a dictonary of each iteration of grid search, saving parameters and test and train scores.\n",
    "# # Converting that to a df and saving as a csv so it can be accessed whenever.\n",
    "\n",
    "# cv_results_df = pd.DataFrame(grid_search.cv_results_)\n",
    "# cv_results_df.to_csv(\"cv_results.csv\")"
   ]
  },
  {
   "cell_type": "markdown",
   "metadata": {},
   "source": [
    "Obtaining the top ten most important features."
   ]
  },
  {
   "cell_type": "code",
   "execution_count": 15,
   "metadata": {},
   "outputs": [
    {
     "name": "stdout",
     "output_type": "stream",
     "text": [
      "Top 10 Features for Serve Prediction:\n",
      "                          Feature  Importance\n",
      "12  dist_ball_bounce_y_returner_y    0.163934\n",
      "20           close_to_center_line    0.148853\n",
      "1                   ball_bounce_y    0.141856\n",
      "5                      ball_hit_v    0.139011\n",
      "19             close_to_side_line    0.122052\n",
      "18                   serve_number    0.091459\n",
      "8               ball_bounce_angle    0.066238\n",
      "10                     receiver_x    0.022681\n",
      "6                      ball_net_z    0.017871\n",
      "7                   ball_bounce_x    0.013205\n"
     ]
    }
   ],
   "source": [
    "# Extract feature importances\n",
    "importances = saved_model.feature_importances_\n",
    "\n",
    "# Create a DataFrame for feature importance\n",
    "feature_importance_df = pd.DataFrame({\n",
    "    'Feature': X_train.columns,\n",
    "    'Importance': importances\n",
    "})\n",
    "\n",
    "# Sort features by importance\n",
    "top_features = feature_importance_df.sort_values(by='Importance', ascending=False).head(10)\n",
    "\n",
    "# Display the top 10 features\n",
    "print(\"Top 10 Features for Serve Prediction:\")\n",
    "print(top_features)"
   ]
  },
  {
   "cell_type": "markdown",
   "metadata": {},
   "source": [
    "Three of new features engineered have made it into the top 10, two making it to top 2."
   ]
  },
  {
   "cell_type": "code",
   "execution_count": 16,
   "metadata": {},
   "outputs": [
    {
     "data": {
      "image/png": "[encoded data removed]",
      "text/plain": [
       "<Figure size 1000x600 with 1 Axes>"
      ]
     },
     "metadata": {},
     "output_type": "display_data"
    }
   ],
   "source": [
    "# Visualize feature importance\n",
    "\n",
    "plt.figure(figsize=(10, 6))\n",
    "plt.barh(top_features['Feature'], top_features['Importance'], color='skyblue')\n",
    "plt.xlabel('Importance')\n",
    "plt.ylabel('Feature')\n",
    "plt.title('Top 10 Features for Serve Prediction')\n",
    "plt.gca().invert_yaxis()\n",
    "plt.show()"
   ]
  },
  {
   "cell_type": "code",
   "execution_count": 17,
   "metadata": {},
   "outputs": [
    {
     "name": "stdout",
     "output_type": "stream",
     "text": [
      "Worst 10 Features for Serve Prediction:\n",
      "                  Feature  Importance\n",
      "17     receiver_hand_left    0.001214\n",
      "21  close_to_service_line    0.001645\n",
      "9                hitter_x    0.002323\n",
      "16       hitter_hand_left    0.002735\n",
      "14           surface_hard    0.004418\n",
      "15       serve_side_deuce    0.004538\n",
      "13           surface_clay    0.006276\n",
      "4              ball_hit_z    0.007952\n",
      "0              ball_hit_y    0.008768\n",
      "3              ball_hit_x    0.009797\n"
     ]
    }
   ],
   "source": [
    "# Sort features by importance\n",
    "worst_features = feature_importance_df.sort_values(by='Importance', ascending=True).head(10)\n",
    "\n",
    "# Display the top 10 features\n",
    "print(\"Worst 10 Features for Serve Prediction:\")\n",
    "print(worst_features)"
   ]
  },
  {
   "cell_type": "markdown",
   "metadata": {},
   "source": [
    "Dropping more columns"
   ]
  },
  {
   "cell_type": "code",
   "execution_count": 67,
   "metadata": {},
   "outputs": [],
   "source": [
    "# new_columns_to_drop = ['receiver_hand_left', 'surface_hard', 'close_to_service_line','hitter_hand_left','serve_side_deuce','hitter_x']\n",
    "# X_train.drop(columns=new_columns_to_drop, inplace=True)\n",
    "# X_test.drop(columns=new_columns_to_drop, inplace=True)"
   ]
  },
  {
   "cell_type": "markdown",
   "metadata": {},
   "source": [
    "### XG Boost"
   ]
  },
  {
   "cell_type": "code",
   "execution_count": 19,
   "metadata": {},
   "outputs": [
    {
     "name": "stdout",
     "output_type": "stream",
     "text": [
      "-----Test Data Accuracy----\n",
      "Accuracy score: 0.9027\n",
      "F1 score: 0.566\n",
      "\n",
      "-----Train Data Accuracy----\n",
      "Accuracy score: 0.9425\n",
      "F1 score: 0.9436\n"
     ]
    }
   ],
   "source": [
    "xgb = XGBClassifier(eval_metric=\"logloss\", randome_state=42)\n",
    "\n",
    "# Training Model\n",
    "xgb.fit(X_train, y_train)\n",
    "\n",
    "# Mode summary\n",
    "y_pred = xgb.predict(X_test)\n",
    "y_pred_train = xgb.predict(X_train)\n",
    "\n",
    "scoring()"
   ]
  },
  {
   "cell_type": "code",
   "execution_count": 22,
   "metadata": {},
   "outputs": [
    {
     "data": {
      "text/plain": [
       "['xgb_model.joblib']"
      ]
     },
     "execution_count": 22,
     "metadata": {},
     "output_type": "execute_result"
    }
   ],
   "source": [
    "joblib.dump(xgb, 'xgb_model.joblib')"
   ]
  },
  {
   "cell_type": "code",
   "execution_count": 20,
   "metadata": {},
   "outputs": [
    {
     "data": {
      "image/png": "[encoded data removed]",
      "text/plain": [
       "<Figure size 500x400 with 2 Axes>"
      ]
     },
     "metadata": {},
     "output_type": "display_data"
    }
   ],
   "source": [
    "# Confusion Matrix Visualization\n",
    "plt.figure(figsize=(5, 4))\n",
    "sns.heatmap(confusion_matrix(y_test, y_pred), annot=True, fmt=\"d\", cmap=\"Blues\", xticklabels=[\"Not Ace\", \"Ace\"], yticklabels=[\"Not Ace\", \"Ace\"])\n",
    "plt.xlabel(\"Predicted\")\n",
    "plt.ylabel(\"Actual\")\n",
    "plt.title(\"Confusion Matrix\")\n",
    "plt.show()"
   ]
  },
  {
   "cell_type": "markdown",
   "metadata": {},
   "source": [
    "More focus must be given to identifying why serves that are not aces are getting identified as aces."
   ]
  }
 ],
 "metadata": {
  "kernelspec": {
   "display_name": ".venv",
   "language": "python",
   "name": "python3"
  },
  "language_info": {
   "codemirror_mode": {
    "name": "ipython",
    "version": 3
   },
   "file_extension": ".py",
   "mimetype": "text/x-python",
   "name": "python",
   "nbconvert_exporter": "python",
   "pygments_lexer": "ipython3",
   "version": "3.12.2"
  }
 },
 "nbformat": 4,
 "nbformat_minor": 2
}
